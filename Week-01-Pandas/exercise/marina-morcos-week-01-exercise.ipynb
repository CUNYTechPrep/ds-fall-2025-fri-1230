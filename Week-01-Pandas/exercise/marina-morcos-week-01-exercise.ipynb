{
 "cells": [
  {
   "cell_type": "markdown",
   "metadata": {},
   "source": [
    "# First print your name in the cell below then save this file. (or something nice about your instructor)"
   ]
  },
  {
   "cell_type": "code",
   "execution_count": 19,
   "metadata": {},
   "outputs": [
    {
     "name": "stdout",
     "output_type": "stream",
     "text": [
      "Marina Morcos\n"
     ]
    }
   ],
   "source": [
    "# In this cell print your name \n",
    "print(\"Marina Morcos\")\n",
    "\n"
   ]
  },
  {
   "cell_type": "markdown",
   "metadata": {},
   "source": [
    "# Data wrangling with Pandas exercise\n",
    "* For this exercise we will be using the `listings.csv` data file."
   ]
  },
  {
   "cell_type": "code",
   "execution_count": 20,
   "metadata": {},
   "outputs": [],
   "source": [
    "import pandas as pd\n",
    "import numpy as np"
   ]
  },
  {
   "cell_type": "markdown",
   "metadata": {},
   "source": [
    "# Load in the data file using `pd.read_csv()`"
   ]
  },
  {
   "cell_type": "code",
   "execution_count": 21,
   "metadata": {},
   "outputs": [],
   "source": [
    "# Load data here\n",
    "df = pd.read_csv('/workspaces/ds-fall-2025-fri-1230/Week-01-Pandas/data/listings.csv')\n",
    "\n"
   ]
  },
  {
   "cell_type": "markdown",
   "metadata": {},
   "source": [
    "## Exercise 2 - Filtering\n",
    "\n",
    "Return the following subsets of the dataframe.\n",
    "\n",
    "1. How many listings are there with a price less than 100? \n",
    "\n",
    "\n",
    "2. Find how many listings there are in just Brooklyn.\n",
    "\n",
    "\n",
    "3. Find how many listings there are in Brooklyn with a price less than 100.\n",
    "\n",
    "\n",
    "4. Using `.isin()` select anyone that has the host name of Michael, David, John, and Daniel.\n",
    "\n",
    "\n",
    "5. Create a new column called `adjusted_price` that has $100 added to every listing in Williamsburg.  The prices for all other listings should be the same as the were before. \n",
    "\n",
    "\n",
    "6. What % of the rooms are private, and what % of the rooms are shared.  \n",
    "    * Hint, use `.value_counts()`\n"
   ]
  },
  {
   "cell_type": "code",
   "execution_count": 22,
   "metadata": {},
   "outputs": [
    {
     "data": {
      "text/plain": [
       "id        name                                                host_id    host_name    neighbourhood_group  neighbourhood       latitude  longitude  room_type        price  minimum_nights  number_of_reviews  last_review  reviews_per_month  calculated_host_listings_count  availability_365\n",
       "3831      Whole flr w/private bdrm, bath & kitchen(pls read)  4869       LisaRoxanne  Brooklyn             Clinton Hill        40.68514  -73.95976  Entire home/apt  75     1               340                2020-08-01   4.75               1                               265                 1\n",
       "5121      BlissArtsSpace!                                     7356       Garon        Brooklyn             Bedford-Stuyvesant  40.68688  -73.95596  Private room     60     29              50                 2019-12-02   0.37               1                               365                 1\n",
       "5178      Large Furnished Room Near B'way　                    8967       Shunichi     Manhattan            Hell's Kitchen      40.76489  -73.98493  Private room     65     2               473                2020-03-15   3.44               1                               340                 1\n",
       "5203      Cozy Clean Guest Room - Family Apt                  7490       MaryEllen    Manhattan            Upper West Side     40.80178  -73.96723  Private room     75     2               118                2017-07-21   0.89               1                               0                   1\n",
       "5803      Lovely Room 1, Garden, Best Area, Legal rental      9744       Laurie       Brooklyn             South Slope         40.66829  -73.98779  Private room     88     4               180                2020-03-18   1.31               3                               344                 1\n",
       "                                                                                                                                                                                                                                                                                                  ..\n",
       "44609727  Private room in a big apartment in Brooklyn         310776840  Alejandra    Brooklyn             Bedford-Stuyvesant  40.69146  -73.93433  Private room     40     1               1                  2020-08-09   1.00               4                               228                 1\n",
       "44622787  Penthouse Private Room in Manhattan Roof Top View   172369331  Abby         Manhattan            Tribeca             40.71495  -74.01047  Private room     55     5               1                  2020-08-09   1.00               1                               168                 1\n",
       "44633340  C.C - Brklyn Small but cozy room close to Subways   361101225  Roger        Brooklyn             Bushwick            40.68650  -73.90841  Private room     46     1               1                  2020-08-10   1.00               4                               364                 1\n",
       "44655517  Sofa bed with ceiling fan and TV                    361530167  Rodrigo      Queens               Astoria             40.75694  -73.91833  Private room     25     1               1                  2020-08-14   1.00               1                               45                  1\n",
       "44662157  Flushing Sunshine home #102                         361579037  Daniel       Queens               Flushing            40.74441  -73.82829  Private room     55     1               3                  2020-08-16   3.00               2                               365                 1\n",
       "Name: count, Length: 17819, dtype: int64"
      ]
     },
     "execution_count": 22,
     "metadata": {},
     "output_type": "execute_result"
    }
   ],
   "source": [
    "# 1. How many listings are there with a price less than 100? \n",
    "\n",
    "price_less_100 = df[\"price\"] < 100 \n",
    "prices = df[price_less_100].value_counts()\n",
    "prices\n",
    "\n",
    "#There are 17819 listings with the price less than 100.\n",
    "\n"
   ]
  },
  {
   "cell_type": "code",
   "execution_count": 23,
   "metadata": {},
   "outputs": [
    {
     "data": {
      "text/plain": [
       "id        name                                                host_id    host_name      neighbourhood_group  neighbourhood       latitude  longitude  room_type        price  minimum_nights  number_of_reviews  last_review  reviews_per_month  calculated_host_listings_count  availability_365\n",
       "3831      Whole flr w/private bdrm, bath & kitchen(pls read)  4869       LisaRoxanne    Brooklyn             Clinton Hill        40.68514  -73.95976  Entire home/apt  75     1               340                2020-08-01   4.75               1                               265                 1\n",
       "5121      BlissArtsSpace!                                     7356       Garon          Brooklyn             Bedford-Stuyvesant  40.68688  -73.95596  Private room     60     29              50                 2019-12-02   0.37               1                               365                 1\n",
       "5136      Spacious Brooklyn Duplex, Patio + Garden            7378       Rebecca        Brooklyn             Sunset Park         40.66120  -73.99423  Entire home/apt  175    14              1                  2014-01-02   0.01               1                               295                 1\n",
       "5803      Lovely Room 1, Garden, Best Area, Legal rental      9744       Laurie         Brooklyn             South Slope         40.66829  -73.98779  Private room     88     4               180                2020-03-18   1.31               3                               344                 1\n",
       "6848      Only 2 stops to Manhattan studio                    15991      Allen & Irina  Brooklyn             Williamsburg        40.70837  -73.95352  Entire home/apt  109    2               181                2020-03-16   1.32               1                               0                   1\n",
       "                                                                                                                                                                                                                                                                                                    ..\n",
       "44435099  Private Room in Apartment You Can Rent in Brooklyn  358933697  Kenday         Brooklyn             East New York       40.67210  -73.87946  Private room     45     1               1                  2020-07-29   1.00               1                               344                 1\n",
       "44445557  Two Bedroom Penthouse W/Balcony and Roof access     13603829   Kazi           Brooklyn             Kensington          40.63592  -73.97307  Entire home/apt  264    1               8                  2020-08-13   8.00               2                               359                 1\n",
       "44461963  Newly Renovated Private Apartment                   143516082  Maria          Brooklyn             Bedford-Stuyvesant  40.68708  -73.95070  Entire home/apt  114    1               1                  2020-08-09   1.00               1                               124                 1\n",
       "44609727  Private room in a big apartment in Brooklyn         310776840  Alejandra      Brooklyn             Bedford-Stuyvesant  40.69146  -73.93433  Private room     40     1               1                  2020-08-09   1.00               4                               228                 1\n",
       "44633340  C.C - Brklyn Small but cozy room close to Subways   361101225  Roger          Brooklyn             Bushwick            40.68650  -73.90841  Private room     46     1               1                  2020-08-10   1.00               4                               364                 1\n",
       "Name: count, Length: 14858, dtype: int64"
      ]
     },
     "execution_count": 23,
     "metadata": {},
     "output_type": "execute_result"
    }
   ],
   "source": [
    "# 2. Make a new DataFrame of listings in Brooklyn named `df_bk` \n",
    "# and find how many listings in just Brooklyn.\n",
    "\n",
    "df_bk = df[\"neighbourhood_group\"] == \"Brooklyn\"\n",
    "df_bk_count = df[df_bk].value_counts()\n",
    "df_bk_count\n",
    "\n",
    "#There are 14858 brooklyn listings"
   ]
  },
  {
   "cell_type": "code",
   "execution_count": 24,
   "metadata": {},
   "outputs": [
    {
     "data": {
      "text/plain": [
       "price\n",
       "50    738\n",
       "60    595\n",
       "75    552\n",
       "70    503\n",
       "80    496\n",
       "     ... \n",
       "17      5\n",
       "16      4\n",
       "15      3\n",
       "0       2\n",
       "10      1\n",
       "Name: count, Length: 87, dtype: int64"
      ]
     },
     "execution_count": 24,
     "metadata": {},
     "output_type": "execute_result"
    }
   ],
   "source": [
    "# 3. Find how many listings there are in Brooklyn with a price less than 100.\n",
    "price_less_100 = df[\"price\"] < 100\n",
    "df_bk = df[\"neighbourhood_group\"] == \"Brooklyn\"\n",
    "\n",
    "cheap_brook = df[price_less_100 & df_bk]\n",
    "count = cheap_brook[\"price\"].value_counts()\n",
    "count\n",
    "\n",
    "#There are 87 listings"
   ]
  },
  {
   "cell_type": "code",
   "execution_count": 25,
   "metadata": {},
   "outputs": [
    {
     "data": {
      "text/plain": [
       "host_name\n",
       "Michael                 387\n",
       "David                   348\n",
       "John                    270\n",
       "Daniel                  253\n",
       "Blueground              249\n",
       "                       ... \n",
       "Stoney                    1\n",
       "Virginia & Steve          1\n",
       "Terumi                    1\n",
       "Michael And Meredith      1\n",
       "Dongho                    1\n",
       "Name: count, Length: 11094, dtype: int64"
      ]
     },
     "execution_count": 25,
     "metadata": {},
     "output_type": "execute_result"
    }
   ],
   "source": [
    "# 4. Using `.isin()` select anyone that has the host name of Michael, David, John, and Daniel.\n",
    "# How many total are there that have those names\n",
    "\n",
    "name = [\"Michael\", \"David\", \"John\", \"Daniel\"]\n",
    "condition = df.host_name.isin(name)\n",
    "val = df[\"host_name\"].value_counts()\n",
    "val\n",
    "# The total number of names there is 11094\n"
   ]
  },
  {
   "cell_type": "code",
   "execution_count": 26,
   "metadata": {},
   "outputs": [
    {
     "data": {
      "text/html": [
       "<div>\n",
       "<style scoped>\n",
       "    .dataframe tbody tr th:only-of-type {\n",
       "        vertical-align: middle;\n",
       "    }\n",
       "\n",
       "    .dataframe tbody tr th {\n",
       "        vertical-align: top;\n",
       "    }\n",
       "\n",
       "    .dataframe thead th {\n",
       "        text-align: right;\n",
       "    }\n",
       "</style>\n",
       "<table border=\"1\" class=\"dataframe\">\n",
       "  <thead>\n",
       "    <tr style=\"text-align: right;\">\n",
       "      <th></th>\n",
       "      <th>id</th>\n",
       "      <th>name</th>\n",
       "      <th>host_id</th>\n",
       "      <th>host_name</th>\n",
       "      <th>neighbourhood_group</th>\n",
       "      <th>neighbourhood</th>\n",
       "      <th>latitude</th>\n",
       "      <th>longitude</th>\n",
       "      <th>room_type</th>\n",
       "      <th>price</th>\n",
       "      <th>minimum_nights</th>\n",
       "      <th>number_of_reviews</th>\n",
       "      <th>last_review</th>\n",
       "      <th>reviews_per_month</th>\n",
       "      <th>calculated_host_listings_count</th>\n",
       "      <th>availability_365</th>\n",
       "      <th>adjusted_price</th>\n",
       "    </tr>\n",
       "  </thead>\n",
       "  <tbody>\n",
       "    <tr>\n",
       "      <th>0</th>\n",
       "      <td>2595</td>\n",
       "      <td>Skylit Midtown Castle</td>\n",
       "      <td>2845</td>\n",
       "      <td>Jennifer</td>\n",
       "      <td>Manhattan</td>\n",
       "      <td>Midtown</td>\n",
       "      <td>40.75362</td>\n",
       "      <td>-73.98377</td>\n",
       "      <td>Entire home/apt</td>\n",
       "      <td>175</td>\n",
       "      <td>3</td>\n",
       "      <td>48</td>\n",
       "      <td>2019-11-04</td>\n",
       "      <td>0.37</td>\n",
       "      <td>2</td>\n",
       "      <td>365</td>\n",
       "      <td>275</td>\n",
       "    </tr>\n",
       "    <tr>\n",
       "      <th>1</th>\n",
       "      <td>3831</td>\n",
       "      <td>Whole flr w/private bdrm, bath &amp; kitchen(pls r...</td>\n",
       "      <td>4869</td>\n",
       "      <td>LisaRoxanne</td>\n",
       "      <td>Brooklyn</td>\n",
       "      <td>Clinton Hill</td>\n",
       "      <td>40.68514</td>\n",
       "      <td>-73.95976</td>\n",
       "      <td>Entire home/apt</td>\n",
       "      <td>75</td>\n",
       "      <td>1</td>\n",
       "      <td>340</td>\n",
       "      <td>2020-08-01</td>\n",
       "      <td>4.75</td>\n",
       "      <td>1</td>\n",
       "      <td>265</td>\n",
       "      <td>175</td>\n",
       "    </tr>\n",
       "    <tr>\n",
       "      <th>2</th>\n",
       "      <td>5121</td>\n",
       "      <td>BlissArtsSpace!</td>\n",
       "      <td>7356</td>\n",
       "      <td>Garon</td>\n",
       "      <td>Brooklyn</td>\n",
       "      <td>Bedford-Stuyvesant</td>\n",
       "      <td>40.68688</td>\n",
       "      <td>-73.95596</td>\n",
       "      <td>Private room</td>\n",
       "      <td>60</td>\n",
       "      <td>29</td>\n",
       "      <td>50</td>\n",
       "      <td>2019-12-02</td>\n",
       "      <td>0.37</td>\n",
       "      <td>1</td>\n",
       "      <td>365</td>\n",
       "      <td>160</td>\n",
       "    </tr>\n",
       "    <tr>\n",
       "      <th>3</th>\n",
       "      <td>5136</td>\n",
       "      <td>Spacious Brooklyn Duplex, Patio + Garden</td>\n",
       "      <td>7378</td>\n",
       "      <td>Rebecca</td>\n",
       "      <td>Brooklyn</td>\n",
       "      <td>Sunset Park</td>\n",
       "      <td>40.66120</td>\n",
       "      <td>-73.99423</td>\n",
       "      <td>Entire home/apt</td>\n",
       "      <td>175</td>\n",
       "      <td>14</td>\n",
       "      <td>1</td>\n",
       "      <td>2014-01-02</td>\n",
       "      <td>0.01</td>\n",
       "      <td>1</td>\n",
       "      <td>295</td>\n",
       "      <td>275</td>\n",
       "    </tr>\n",
       "    <tr>\n",
       "      <th>4</th>\n",
       "      <td>5178</td>\n",
       "      <td>Large Furnished Room Near B'way</td>\n",
       "      <td>8967</td>\n",
       "      <td>Shunichi</td>\n",
       "      <td>Manhattan</td>\n",
       "      <td>Hell's Kitchen</td>\n",
       "      <td>40.76489</td>\n",
       "      <td>-73.98493</td>\n",
       "      <td>Private room</td>\n",
       "      <td>65</td>\n",
       "      <td>2</td>\n",
       "      <td>473</td>\n",
       "      <td>2020-03-15</td>\n",
       "      <td>3.44</td>\n",
       "      <td>1</td>\n",
       "      <td>340</td>\n",
       "      <td>165</td>\n",
       "    </tr>\n",
       "  </tbody>\n",
       "</table>\n",
       "</div>"
      ],
      "text/plain": [
       "     id                                               name  host_id  \\\n",
       "0  2595                              Skylit Midtown Castle     2845   \n",
       "1  3831  Whole flr w/private bdrm, bath & kitchen(pls r...     4869   \n",
       "2  5121                                    BlissArtsSpace!     7356   \n",
       "3  5136           Spacious Brooklyn Duplex, Patio + Garden     7378   \n",
       "4  5178                   Large Furnished Room Near B'way　     8967   \n",
       "\n",
       "     host_name neighbourhood_group       neighbourhood  latitude  longitude  \\\n",
       "0     Jennifer           Manhattan             Midtown  40.75362  -73.98377   \n",
       "1  LisaRoxanne            Brooklyn        Clinton Hill  40.68514  -73.95976   \n",
       "2        Garon            Brooklyn  Bedford-Stuyvesant  40.68688  -73.95596   \n",
       "3      Rebecca            Brooklyn         Sunset Park  40.66120  -73.99423   \n",
       "4     Shunichi           Manhattan      Hell's Kitchen  40.76489  -73.98493   \n",
       "\n",
       "         room_type  price  minimum_nights  number_of_reviews last_review  \\\n",
       "0  Entire home/apt    175               3                 48  2019-11-04   \n",
       "1  Entire home/apt     75               1                340  2020-08-01   \n",
       "2     Private room     60              29                 50  2019-12-02   \n",
       "3  Entire home/apt    175              14                  1  2014-01-02   \n",
       "4     Private room     65               2                473  2020-03-15   \n",
       "\n",
       "   reviews_per_month  calculated_host_listings_count  availability_365  \\\n",
       "0               0.37                               2               365   \n",
       "1               4.75                               1               265   \n",
       "2               0.37                               1               365   \n",
       "3               0.01                               1               295   \n",
       "4               3.44                               1               340   \n",
       "\n",
       "   adjusted_price  \n",
       "0             275  \n",
       "1             175  \n",
       "2             160  \n",
       "3             275  \n",
       "4             165  "
      ]
     },
     "execution_count": 26,
     "metadata": {},
     "output_type": "execute_result"
    }
   ],
   "source": [
    "# 5. Create a new column called `adjusted_price` that has $100 added to every listing in Williamsburg.  \n",
    "# The prices for all other listings should be the same as the were before. \n",
    "\n",
    "adjusted_price = df[\"price\"] + 100\n",
    "df[\"adjusted_price\"] = adjusted_price\n",
    "df.head()\n"
   ]
  },
  {
   "cell_type": "code",
   "execution_count": 27,
   "metadata": {},
   "outputs": [
    {
     "data": {
      "text/plain": [
       "room_type\n",
       "False    54.555419\n",
       "True     45.444581\n",
       "Name: proportion, dtype: float64"
      ]
     },
     "execution_count": 27,
     "metadata": {},
     "output_type": "execute_result"
    }
   ],
   "source": [
    "# 6. What % of the rooms are private, and what % of the rooms are shared.  \n",
    "\n",
    "private = df[\"room_type\"] == \"Private room\"\n",
    "public = df[\"room_type\"] == \"Entire home/apt\"\n",
    "\n",
    "private_percent = private.value_counts(normalize=True) * 100\n",
    "private_percent \n",
    "#private rooms are 45 percent and 54 percent for shared\n"
   ]
  },
  {
   "cell_type": "markdown",
   "metadata": {},
   "source": [
    "# Exercise 3 - Grouping\n",
    "\n",
    "1. Using `groupby`, count how many listings are in each neighbourhood_group.\n",
    "\n",
    "\n",
    "2. Using `groupby`, find the mean price for each of the neighbourhood_groups. \n",
    "\n",
    "\n",
    "3. Using `groupby` and `.agg()`, find the min and max price for each of the neighbourhood_groups. \n",
    "\n",
    "\n",
    "4. Using `groupby`, find the median price for each room type in each neighbourhood_group.\n",
    "\n",
    "\n",
    "5. Using `groupby` and `.agg()`, find the count, min, max, mean, median, and std of the prices for each room type in each neighbourhood_group."
   ]
  },
  {
   "cell_type": "code",
   "execution_count": 28,
   "metadata": {},
   "outputs": [],
   "source": [
    "# 1. Using `groupby`, count how many listings are in each neighbourhood_group.\n",
    "gb = df.groupby(\"neighbourhood_group\")\n",
    "\n",
    "\n"
   ]
  },
  {
   "cell_type": "code",
   "execution_count": 29,
   "metadata": {},
   "outputs": [
    {
     "data": {
      "text/plain": [
       "neighbourhood_group\n",
       "Bronx             92.751479\n",
       "Brooklyn         120.225258\n",
       "Manhattan        191.880466\n",
       "Queens            99.754965\n",
       "Staten Island    110.947214\n",
       "Name: price, dtype: float64"
      ]
     },
     "execution_count": 29,
     "metadata": {},
     "output_type": "execute_result"
    }
   ],
   "source": [
    "# 2. Using `groupby`, find the mean price for each of the neighbourhood_groups. \n",
    "val = gb['price'].mean()\n",
    "val"
   ]
  },
  {
   "cell_type": "code",
   "execution_count": 30,
   "metadata": {},
   "outputs": [
    {
     "data": {
      "text/plain": [
       "room_type\n",
       "Entire home/apt    199.395950\n",
       "Hotel room         275.015075\n",
       "Private room        91.453084\n",
       "Shared room         87.063830\n",
       "Name: price, dtype: float64"
      ]
     },
     "execution_count": 30,
     "metadata": {},
     "output_type": "execute_result"
    }
   ],
   "source": [
    "# 2.5. Using `groupby`, find the mean price for each room_type. \n",
    "val1 = df.groupby(\"room_type\")[\"price\"].mean()\n",
    "val1"
   ]
  },
  {
   "cell_type": "code",
   "execution_count": 31,
   "metadata": {},
   "outputs": [],
   "source": [
    "# 3. Using `groupby` and `.agg()`, find the min and max price for each of the neighbourhood_groups. \n",
    "result = (\n",
    "    df.groupby(\"neighbourhood_group\")[\"price\"]\n",
    "      .agg([\"min\", \"max\"])\n",
    ")\n",
    "\n"
   ]
  },
  {
   "cell_type": "code",
   "execution_count": 32,
   "metadata": {},
   "outputs": [],
   "source": [
    "# 4. Using `groupby`, find the mean price for each room_type in each neighbourhood_group.\n",
    "result = (\n",
    "    df.groupby([\"neighbourhood_group\", \"room_type\"])[\"price\"]\n",
    "      .mean()\n",
    "      .reset_index()\n",
    ")\n",
    "\n"
   ]
  },
  {
   "cell_type": "code",
   "execution_count": 33,
   "metadata": {},
   "outputs": [],
   "source": [
    "# 5. Using `groupby` and `.agg()`, find the count, min, max, mean, median, and std of the prices \n",
    "# for each room type in each neighbourhood_group.\n",
    "result = (\n",
    "    df.groupby([\"neighbourhood_group\", \"room_type\"])[\"price\"]\n",
    "      .agg(count=\"count\", \n",
    "           min=\"min\", \n",
    "           max=\"max\", \n",
    "           mean=\"mean\", \n",
    "           median=\"median\", \n",
    "           std=\"std\")\n",
    "      .reset_index()\n",
    ")\n",
    "\n",
    "\n"
   ]
  },
  {
   "cell_type": "markdown",
   "metadata": {},
   "source": [
    "# Load, Merge, and Export files.\n",
    "1. Load the `prices.csv` and the `n_listings.csv`\n",
    "    * Having an error..? Inspect the actual csv file if you're having trouble\n",
    "\n",
    "2. Do join that keeps all the records for each table.\n",
    "    * Neighbourhood groups should include ['Bronx', 'Brooklyn', 'Manhattan', 'Queens', 'Staten Island',\n",
    "       'LongIsland']\n",
    "\n",
    "       \n",
    "3. Save your joined csv as `joined.csv` into the data folder. \n",
    "\n",
    "\n",
    "4. Load your saved table and see if it looks the same or different that the DataFrame you used to create it. "
   ]
  },
  {
   "cell_type": "code",
   "execution_count": 34,
   "metadata": {},
   "outputs": [],
   "source": [
    "# 1. Load the `prices.csv` and the `n_listings.csv`\n",
    "df = pd.read_csv('/workspaces/ds-fall-2025-fri-1230/Week-01-Pandas/data/listings.csv')\n",
    "dn = pd.read_csv('/workspaces/ds-fall-2025-fri-1230/Week-01-Pandas/data/n_listings.csv')"
   ]
  },
  {
   "cell_type": "code",
   "execution_count": 35,
   "metadata": {},
   "outputs": [],
   "source": [
    "# 2. Do join that keeps all the records for each table.\n",
    "\n",
    "joined = pd.merge(df, dn, on='neighbourhood_group')"
   ]
  },
  {
   "cell_type": "code",
   "execution_count": 42,
   "metadata": {},
   "outputs": [],
   "source": [
    "# 3. Save your joined csv as `joined.csv` into the data folder. \n",
    "joined.to_csv('/workspaces/ds-fall-2025-fri-1230/Week-01-Pandas/data/joined.csv', index=False)"
   ]
  },
  {
   "cell_type": "code",
   "execution_count": 46,
   "metadata": {},
   "outputs": [
    {
     "data": {
      "text/html": [
       "<div>\n",
       "<style scoped>\n",
       "    .dataframe tbody tr th:only-of-type {\n",
       "        vertical-align: middle;\n",
       "    }\n",
       "\n",
       "    .dataframe tbody tr th {\n",
       "        vertical-align: top;\n",
       "    }\n",
       "\n",
       "    .dataframe thead th {\n",
       "        text-align: right;\n",
       "    }\n",
       "</style>\n",
       "<table border=\"1\" class=\"dataframe\">\n",
       "  <thead>\n",
       "    <tr style=\"text-align: right;\">\n",
       "      <th></th>\n",
       "      <th>id</th>\n",
       "      <th>name</th>\n",
       "      <th>host_id</th>\n",
       "      <th>host_name</th>\n",
       "      <th>neighbourhood_group</th>\n",
       "      <th>neighbourhood</th>\n",
       "      <th>latitude</th>\n",
       "      <th>longitude</th>\n",
       "      <th>room_type</th>\n",
       "      <th>price</th>\n",
       "      <th>minimum_nights</th>\n",
       "      <th>number_of_reviews</th>\n",
       "      <th>last_review</th>\n",
       "      <th>reviews_per_month</th>\n",
       "      <th>calculated_host_listings_count</th>\n",
       "      <th>availability_365</th>\n",
       "      <th>n_listings</th>\n",
       "    </tr>\n",
       "  </thead>\n",
       "  <tbody>\n",
       "    <tr>\n",
       "      <th>40390</th>\n",
       "      <td>44807522</td>\n",
       "      <td>Designer Gramercy Studio Townhouse by UNSQ</td>\n",
       "      <td>12941925</td>\n",
       "      <td>Brian</td>\n",
       "      <td>Manhattan</td>\n",
       "      <td>Gramercy</td>\n",
       "      <td>40.73433</td>\n",
       "      <td>-73.98383</td>\n",
       "      <td>Entire home/apt</td>\n",
       "      <td>145</td>\n",
       "      <td>7</td>\n",
       "      <td>0</td>\n",
       "      <td>NaN</td>\n",
       "      <td>NaN</td>\n",
       "      <td>1</td>\n",
       "      <td>164</td>\n",
       "      <td>20580</td>\n",
       "    </tr>\n",
       "    <tr>\n",
       "      <th>40391</th>\n",
       "      <td>44807786</td>\n",
       "      <td>Cozy &amp; comfy apt in the heart of Inwood Manhattan</td>\n",
       "      <td>284790520</td>\n",
       "      <td>Salar</td>\n",
       "      <td>Manhattan</td>\n",
       "      <td>Washington Heights</td>\n",
       "      <td>40.85820</td>\n",
       "      <td>-73.92733</td>\n",
       "      <td>Entire home/apt</td>\n",
       "      <td>87</td>\n",
       "      <td>6</td>\n",
       "      <td>0</td>\n",
       "      <td>NaN</td>\n",
       "      <td>NaN</td>\n",
       "      <td>2</td>\n",
       "      <td>85</td>\n",
       "      <td>20580</td>\n",
       "    </tr>\n",
       "    <tr>\n",
       "      <th>40392</th>\n",
       "      <td>44811717</td>\n",
       "      <td>Comfortable safe environment 24hr security camera</td>\n",
       "      <td>362453686</td>\n",
       "      <td>Nicole</td>\n",
       "      <td>Brooklyn</td>\n",
       "      <td>East Flatbush</td>\n",
       "      <td>40.65399</td>\n",
       "      <td>-73.93287</td>\n",
       "      <td>Private room</td>\n",
       "      <td>59</td>\n",
       "      <td>3</td>\n",
       "      <td>0</td>\n",
       "      <td>NaN</td>\n",
       "      <td>NaN</td>\n",
       "      <td>1</td>\n",
       "      <td>90</td>\n",
       "      <td>18632</td>\n",
       "    </tr>\n",
       "    <tr>\n",
       "      <th>40393</th>\n",
       "      <td>44814944</td>\n",
       "      <td>Upper West Side studio 86th Street</td>\n",
       "      <td>4039777</td>\n",
       "      <td>Fernando</td>\n",
       "      <td>Manhattan</td>\n",
       "      <td>Upper West Side</td>\n",
       "      <td>40.78731</td>\n",
       "      <td>-73.97029</td>\n",
       "      <td>Entire home/apt</td>\n",
       "      <td>80</td>\n",
       "      <td>30</td>\n",
       "      <td>0</td>\n",
       "      <td>NaN</td>\n",
       "      <td>NaN</td>\n",
       "      <td>1</td>\n",
       "      <td>113</td>\n",
       "      <td>20580</td>\n",
       "    </tr>\n",
       "    <tr>\n",
       "      <th>40394</th>\n",
       "      <td>44818009</td>\n",
       "      <td>5MIN D/N trains, NEAR THE BEACH, 50’ TO MANHATTAN</td>\n",
       "      <td>48098268</td>\n",
       "      <td>Marina</td>\n",
       "      <td>Brooklyn</td>\n",
       "      <td>Gravesend</td>\n",
       "      <td>40.59945</td>\n",
       "      <td>-73.98209</td>\n",
       "      <td>Private room</td>\n",
       "      <td>66</td>\n",
       "      <td>1</td>\n",
       "      <td>0</td>\n",
       "      <td>NaN</td>\n",
       "      <td>NaN</td>\n",
       "      <td>1</td>\n",
       "      <td>38</td>\n",
       "      <td>18632</td>\n",
       "    </tr>\n",
       "  </tbody>\n",
       "</table>\n",
       "</div>"
      ],
      "text/plain": [
       "             id                                               name    host_id  \\\n",
       "40390  44807522         Designer Gramercy Studio Townhouse by UNSQ   12941925   \n",
       "40391  44807786  Cozy & comfy apt in the heart of Inwood Manhattan  284790520   \n",
       "40392  44811717  Comfortable safe environment 24hr security camera  362453686   \n",
       "40393  44814944                 Upper West Side studio 86th Street    4039777   \n",
       "40394  44818009  5MIN D/N trains, NEAR THE BEACH, 50’ TO MANHATTAN   48098268   \n",
       "\n",
       "      host_name neighbourhood_group       neighbourhood  latitude  longitude  \\\n",
       "40390     Brian           Manhattan            Gramercy  40.73433  -73.98383   \n",
       "40391     Salar           Manhattan  Washington Heights  40.85820  -73.92733   \n",
       "40392    Nicole            Brooklyn       East Flatbush  40.65399  -73.93287   \n",
       "40393  Fernando           Manhattan     Upper West Side  40.78731  -73.97029   \n",
       "40394    Marina            Brooklyn           Gravesend  40.59945  -73.98209   \n",
       "\n",
       "             room_type  price  minimum_nights  number_of_reviews last_review  \\\n",
       "40390  Entire home/apt    145               7                  0         NaN   \n",
       "40391  Entire home/apt     87               6                  0         NaN   \n",
       "40392     Private room     59               3                  0         NaN   \n",
       "40393  Entire home/apt     80              30                  0         NaN   \n",
       "40394     Private room     66               1                  0         NaN   \n",
       "\n",
       "       reviews_per_month  calculated_host_listings_count  availability_365  \\\n",
       "40390                NaN                               1               164   \n",
       "40391                NaN                               2                85   \n",
       "40392                NaN                               1                90   \n",
       "40393                NaN                               1               113   \n",
       "40394                NaN                               1                38   \n",
       "\n",
       "       n_listings  \n",
       "40390       20580  \n",
       "40391       20580  \n",
       "40392       18632  \n",
       "40393       20580  \n",
       "40394       18632  "
      ]
     },
     "execution_count": 46,
     "metadata": {},
     "output_type": "execute_result"
    }
   ],
   "source": [
    "# 4. Load your newly saved file, see if it looks the same.  If not, try saving with argument `index=False`\n",
    "joined_reload = pd.read_csv(\"/workspaces/ds-fall-2025-fri-1230/Week-01-Pandas/data/joined.csv\")\n",
    "joined_reload.tail()"
   ]
  },
  {
   "cell_type": "markdown",
   "metadata": {},
   "source": [
    "# Extra Credit\n",
    "Every question below this cell is extra credit and optional."
   ]
  },
  {
   "cell_type": "markdown",
   "metadata": {},
   "source": [
    "### 1. (Easy) Explore this new PandasAI Package and tell me what its all about because I've never used it. \n",
    "* https://www.youtube.com/watch?v=5w6eZaoDVVk&ab_channel=CodingIsFun  \n",
    "* See if you can use it on the listings.csv to find out some cool info. or answer some of the questions above. "
   ]
  },
  {
   "cell_type": "markdown",
   "metadata": {},
   "source": [
    "### 2. (Very Easy) Find other cool Panda packages / add ons and show us what they can do well. And how you installed them. "
   ]
  },
  {
   "cell_type": "markdown",
   "metadata": {},
   "source": [
    "### 3. (Medium) Use the grammys.csv data for the next section of questions.\n",
    "\n",
    "1. Who was won Album of the Year in 2016?\n",
    "\n",
    "\n",
    "2. Who won Best Rap Album in 2009?\n",
    "\n",
    "\n",
    "3. How many awards was Kendrick Lamar nomiated for, and how many did he win...?"
   ]
  },
  {
   "cell_type": "markdown",
   "metadata": {},
   "source": [
    "### (Hard) Load the Game Logs for 2022 and add the column names using a dictionary.  \n",
    "* [Link to the data page](https://www.retrosheet.org/gamelogs/)\n",
    "* [Link to the column names](https://procatinator.com/)\n",
    "* haha, gotta find them yourself!"
   ]
  },
  {
   "cell_type": "markdown",
   "metadata": {},
   "source": [
    "### (Extra Hard) Download the files for the past 5 years into a new folder and add them all into one data frame using pandas, then save that new file.\n",
    "* Try to not hard code in the file names. We want to do this programmatically because what if we want to add new/more file names in the future."
   ]
  },
  {
   "cell_type": "code",
   "execution_count": null,
   "metadata": {},
   "outputs": [],
   "source": []
  }
 ],
 "metadata": {
  "kernelspec": {
   "display_name": "Python 3",
   "language": "python",
   "name": "python3"
  },
  "language_info": {
   "codemirror_mode": {
    "name": "ipython",
    "version": 3
   },
   "file_extension": ".py",
   "mimetype": "text/x-python",
   "name": "python",
   "nbconvert_exporter": "python",
   "pygments_lexer": "ipython3",
   "version": "3.12.1"
  }
 },
 "nbformat": 4,
 "nbformat_minor": 4
}
