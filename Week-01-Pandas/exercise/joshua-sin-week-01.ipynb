{
 "cells": [
  {
   "cell_type": "markdown",
   "metadata": {},
   "source": [
    "# First print your name in the cell below then save this file. (or something nice about your instructor)"
   ]
  },
  {
   "cell_type": "code",
   "execution_count": null,
   "metadata": {},
   "outputs": [],
   "source": [
    "# In this cell print your name \n",
    "\n",
    "print('Joshua Sin')"
   ]
  },
  {
   "cell_type": "markdown",
   "metadata": {},
   "source": [
    "# Data wrangling with Pandas exercise\n",
    "* For this exercise we will be using the `listings.csv` data file."
   ]
  },
  {
   "cell_type": "code",
   "execution_count": 1,
   "metadata": {},
   "outputs": [],
   "source": [
    "import pandas as pd\n",
    "import numpy as np"
   ]
  },
  {
   "cell_type": "markdown",
   "metadata": {},
   "source": [
    "# Load in the data file using `pd.read_csv()`"
   ]
  },
  {
   "cell_type": "code",
   "execution_count": null,
   "metadata": {},
   "outputs": [
    {
     "data": {
      "text/html": [
       "<div>\n",
       "<style scoped>\n",
       "    .dataframe tbody tr th:only-of-type {\n",
       "        vertical-align: middle;\n",
       "    }\n",
       "\n",
       "    .dataframe tbody tr th {\n",
       "        vertical-align: top;\n",
       "    }\n",
       "\n",
       "    .dataframe thead th {\n",
       "        text-align: right;\n",
       "    }\n",
       "</style>\n",
       "<table border=\"1\" class=\"dataframe\">\n",
       "  <thead>\n",
       "    <tr style=\"text-align: right;\">\n",
       "      <th></th>\n",
       "      <th>id</th>\n",
       "      <th>name</th>\n",
       "      <th>host_id</th>\n",
       "      <th>host_name</th>\n",
       "      <th>neighbourhood_group</th>\n",
       "      <th>neighbourhood</th>\n",
       "      <th>latitude</th>\n",
       "      <th>longitude</th>\n",
       "      <th>room_type</th>\n",
       "      <th>price</th>\n",
       "      <th>minimum_nights</th>\n",
       "      <th>number_of_reviews</th>\n",
       "      <th>last_review</th>\n",
       "      <th>reviews_per_month</th>\n",
       "      <th>calculated_host_listings_count</th>\n",
       "      <th>availability_365</th>\n",
       "    </tr>\n",
       "  </thead>\n",
       "  <tbody>\n",
       "    <tr>\n",
       "      <th>0</th>\n",
       "      <td>2595</td>\n",
       "      <td>Skylit Midtown Castle</td>\n",
       "      <td>2845</td>\n",
       "      <td>Jennifer</td>\n",
       "      <td>Manhattan</td>\n",
       "      <td>Midtown</td>\n",
       "      <td>40.75362</td>\n",
       "      <td>-73.98377</td>\n",
       "      <td>Entire home/apt</td>\n",
       "      <td>175</td>\n",
       "      <td>3</td>\n",
       "      <td>48</td>\n",
       "      <td>2019-11-04</td>\n",
       "      <td>0.37</td>\n",
       "      <td>2</td>\n",
       "      <td>365</td>\n",
       "    </tr>\n",
       "    <tr>\n",
       "      <th>1</th>\n",
       "      <td>3831</td>\n",
       "      <td>Whole flr w/private bdrm, bath &amp; kitchen(pls r...</td>\n",
       "      <td>4869</td>\n",
       "      <td>LisaRoxanne</td>\n",
       "      <td>Brooklyn</td>\n",
       "      <td>Clinton Hill</td>\n",
       "      <td>40.68514</td>\n",
       "      <td>-73.95976</td>\n",
       "      <td>Entire home/apt</td>\n",
       "      <td>75</td>\n",
       "      <td>1</td>\n",
       "      <td>340</td>\n",
       "      <td>2020-08-01</td>\n",
       "      <td>4.75</td>\n",
       "      <td>1</td>\n",
       "      <td>265</td>\n",
       "    </tr>\n",
       "    <tr>\n",
       "      <th>2</th>\n",
       "      <td>5121</td>\n",
       "      <td>BlissArtsSpace!</td>\n",
       "      <td>7356</td>\n",
       "      <td>Garon</td>\n",
       "      <td>Brooklyn</td>\n",
       "      <td>Bedford-Stuyvesant</td>\n",
       "      <td>40.68688</td>\n",
       "      <td>-73.95596</td>\n",
       "      <td>Private room</td>\n",
       "      <td>60</td>\n",
       "      <td>29</td>\n",
       "      <td>50</td>\n",
       "      <td>2019-12-02</td>\n",
       "      <td>0.37</td>\n",
       "      <td>1</td>\n",
       "      <td>365</td>\n",
       "    </tr>\n",
       "    <tr>\n",
       "      <th>3</th>\n",
       "      <td>5136</td>\n",
       "      <td>Spacious Brooklyn Duplex, Patio + Garden</td>\n",
       "      <td>7378</td>\n",
       "      <td>Rebecca</td>\n",
       "      <td>Brooklyn</td>\n",
       "      <td>Sunset Park</td>\n",
       "      <td>40.66120</td>\n",
       "      <td>-73.99423</td>\n",
       "      <td>Entire home/apt</td>\n",
       "      <td>175</td>\n",
       "      <td>14</td>\n",
       "      <td>1</td>\n",
       "      <td>2014-01-02</td>\n",
       "      <td>0.01</td>\n",
       "      <td>1</td>\n",
       "      <td>295</td>\n",
       "    </tr>\n",
       "    <tr>\n",
       "      <th>4</th>\n",
       "      <td>5178</td>\n",
       "      <td>Large Furnished Room Near B'way</td>\n",
       "      <td>8967</td>\n",
       "      <td>Shunichi</td>\n",
       "      <td>Manhattan</td>\n",
       "      <td>Hell's Kitchen</td>\n",
       "      <td>40.76489</td>\n",
       "      <td>-73.98493</td>\n",
       "      <td>Private room</td>\n",
       "      <td>65</td>\n",
       "      <td>2</td>\n",
       "      <td>473</td>\n",
       "      <td>2020-03-15</td>\n",
       "      <td>3.44</td>\n",
       "      <td>1</td>\n",
       "      <td>340</td>\n",
       "    </tr>\n",
       "  </tbody>\n",
       "</table>\n",
       "</div>"
      ],
      "text/plain": [
       "     id                                               name  host_id  \\\n",
       "0  2595                              Skylit Midtown Castle     2845   \n",
       "1  3831  Whole flr w/private bdrm, bath & kitchen(pls r...     4869   \n",
       "2  5121                                    BlissArtsSpace!     7356   \n",
       "3  5136           Spacious Brooklyn Duplex, Patio + Garden     7378   \n",
       "4  5178                   Large Furnished Room Near B'way　     8967   \n",
       "\n",
       "     host_name neighbourhood_group       neighbourhood  latitude  longitude  \\\n",
       "0     Jennifer           Manhattan             Midtown  40.75362  -73.98377   \n",
       "1  LisaRoxanne            Brooklyn        Clinton Hill  40.68514  -73.95976   \n",
       "2        Garon            Brooklyn  Bedford-Stuyvesant  40.68688  -73.95596   \n",
       "3      Rebecca            Brooklyn         Sunset Park  40.66120  -73.99423   \n",
       "4     Shunichi           Manhattan      Hell's Kitchen  40.76489  -73.98493   \n",
       "\n",
       "         room_type  price  minimum_nights  number_of_reviews last_review  \\\n",
       "0  Entire home/apt    175               3                 48  2019-11-04   \n",
       "1  Entire home/apt     75               1                340  2020-08-01   \n",
       "2     Private room     60              29                 50  2019-12-02   \n",
       "3  Entire home/apt    175              14                  1  2014-01-02   \n",
       "4     Private room     65               2                473  2020-03-15   \n",
       "\n",
       "   reviews_per_month  calculated_host_listings_count  availability_365  \n",
       "0               0.37                               2               365  \n",
       "1               4.75                               1               265  \n",
       "2               0.37                               1               365  \n",
       "3               0.01                               1               295  \n",
       "4               3.44                               1               340  "
      ]
     },
     "execution_count": 5,
     "metadata": {},
     "output_type": "execute_result"
    }
   ],
   "source": [
    "# Load data here\n",
    "df = pd.read_csv('/workspaces/ds-fall-2025-fri-1230/Week-01-Pandas/data/listings.csv')"
   ]
  },
  {
   "cell_type": "markdown",
   "metadata": {},
   "source": [
    "## Exercise 2 - Filtering\n",
    "\n",
    "Return the following subsets of the dataframe.\n",
    "\n",
    "1. How many listings are there with a price less than 100? \n",
    "\n",
    "\n",
    "2. Find how many listings there are in just Brooklyn.\n",
    "\n",
    "\n",
    "3. Find how many listings there are in Brooklyn with a price less than 100.\n",
    "\n",
    "\n",
    "4. Using `.isin()` select anyone that has the host name of Michael, David, John, and Daniel.\n",
    "\n",
    "\n",
    "5. Create a new column called `adjusted_price` that has $100 added to every listing in Williamsburg.  The prices for all other listings should be the same as the were before. \n",
    "\n",
    "\n",
    "6. What % of the rooms are private, and what % of the rooms are shared.  \n",
    "    * Hint, use `.value_counts()`\n"
   ]
  },
  {
   "cell_type": "code",
   "execution_count": null,
   "metadata": {},
   "outputs": [
    {
     "data": {
      "text/plain": [
       "id        name                                                host_id    host_name    neighbourhood_group  neighbourhood       latitude  longitude  room_type        price  minimum_nights  number_of_reviews  last_review  reviews_per_month  calculated_host_listings_count  availability_365\n",
       "3831      Whole flr w/private bdrm, bath & kitchen(pls read)  4869       LisaRoxanne  Brooklyn             Clinton Hill        40.68514  -73.95976  Entire home/apt  75     1               340                2020-08-01   4.75               1                               265                 1\n",
       "5121      BlissArtsSpace!                                     7356       Garon        Brooklyn             Bedford-Stuyvesant  40.68688  -73.95596  Private room     60     29              50                 2019-12-02   0.37               1                               365                 1\n",
       "5178      Large Furnished Room Near B'way　                    8967       Shunichi     Manhattan            Hell's Kitchen      40.76489  -73.98493  Private room     65     2               473                2020-03-15   3.44               1                               340                 1\n",
       "5203      Cozy Clean Guest Room - Family Apt                  7490       MaryEllen    Manhattan            Upper West Side     40.80178  -73.96723  Private room     75     2               118                2017-07-21   0.89               1                               0                   1\n",
       "5803      Lovely Room 1, Garden, Best Area, Legal rental      9744       Laurie       Brooklyn             South Slope         40.66829  -73.98779  Private room     88     4               180                2020-03-18   1.31               3                               344                 1\n",
       "                                                                                                                                                                                                                                                                                                  ..\n",
       "44609727  Private room in a big apartment in Brooklyn         310776840  Alejandra    Brooklyn             Bedford-Stuyvesant  40.69146  -73.93433  Private room     40     1               1                  2020-08-09   1.00               4                               228                 1\n",
       "44622787  Penthouse Private Room in Manhattan Roof Top View   172369331  Abby         Manhattan            Tribeca             40.71495  -74.01047  Private room     55     5               1                  2020-08-09   1.00               1                               168                 1\n",
       "44633340  C.C - Brklyn Small but cozy room close to Subways   361101225  Roger        Brooklyn             Bushwick            40.68650  -73.90841  Private room     46     1               1                  2020-08-10   1.00               4                               364                 1\n",
       "44655517  Sofa bed with ceiling fan and TV                    361530167  Rodrigo      Queens               Astoria             40.75694  -73.91833  Private room     25     1               1                  2020-08-14   1.00               1                               45                  1\n",
       "44662157  Flushing Sunshine home #102                         361579037  Daniel       Queens               Flushing            40.74441  -73.82829  Private room     55     1               3                  2020-08-16   3.00               2                               365                 1\n",
       "Name: count, Length: 17819, dtype: int64"
      ]
     },
     "execution_count": 9,
     "metadata": {},
     "output_type": "execute_result"
    }
   ],
   "source": [
    "# 1. How many listings are there with a price less than 100? \n",
    "price_condition = df['price'] < 100\n",
    "df.head()\n",
    "df[price_condition].value_counts()\n",
    "\n"
   ]
  },
  {
   "cell_type": "code",
   "execution_count": 10,
   "metadata": {},
   "outputs": [
    {
     "data": {
      "text/plain": [
       "id        name                                                host_id    host_name      neighbourhood_group  neighbourhood       latitude  longitude  room_type        price  minimum_nights  number_of_reviews  last_review  reviews_per_month  calculated_host_listings_count  availability_365\n",
       "3831      Whole flr w/private bdrm, bath & kitchen(pls read)  4869       LisaRoxanne    Brooklyn             Clinton Hill        40.68514  -73.95976  Entire home/apt  75     1               340                2020-08-01   4.75               1                               265                 1\n",
       "5121      BlissArtsSpace!                                     7356       Garon          Brooklyn             Bedford-Stuyvesant  40.68688  -73.95596  Private room     60     29              50                 2019-12-02   0.37               1                               365                 1\n",
       "5136      Spacious Brooklyn Duplex, Patio + Garden            7378       Rebecca        Brooklyn             Sunset Park         40.66120  -73.99423  Entire home/apt  175    14              1                  2014-01-02   0.01               1                               295                 1\n",
       "5803      Lovely Room 1, Garden, Best Area, Legal rental      9744       Laurie         Brooklyn             South Slope         40.66829  -73.98779  Private room     88     4               180                2020-03-18   1.31               3                               344                 1\n",
       "6848      Only 2 stops to Manhattan studio                    15991      Allen & Irina  Brooklyn             Williamsburg        40.70837  -73.95352  Entire home/apt  109    2               181                2020-03-16   1.32               1                               0                   1\n",
       "                                                                                                                                                                                                                                                                                                    ..\n",
       "44435099  Private Room in Apartment You Can Rent in Brooklyn  358933697  Kenday         Brooklyn             East New York       40.67210  -73.87946  Private room     45     1               1                  2020-07-29   1.00               1                               344                 1\n",
       "44445557  Two Bedroom Penthouse W/Balcony and Roof access     13603829   Kazi           Brooklyn             Kensington          40.63592  -73.97307  Entire home/apt  264    1               8                  2020-08-13   8.00               2                               359                 1\n",
       "44461963  Newly Renovated Private Apartment                   143516082  Maria          Brooklyn             Bedford-Stuyvesant  40.68708  -73.95070  Entire home/apt  114    1               1                  2020-08-09   1.00               1                               124                 1\n",
       "44609727  Private room in a big apartment in Brooklyn         310776840  Alejandra      Brooklyn             Bedford-Stuyvesant  40.69146  -73.93433  Private room     40     1               1                  2020-08-09   1.00               4                               228                 1\n",
       "44633340  C.C - Brklyn Small but cozy room close to Subways   361101225  Roger          Brooklyn             Bushwick            40.68650  -73.90841  Private room     46     1               1                  2020-08-10   1.00               4                               364                 1\n",
       "Name: count, Length: 14858, dtype: int64"
      ]
     },
     "execution_count": 10,
     "metadata": {},
     "output_type": "execute_result"
    }
   ],
   "source": [
    "# 2. Make a new DataFrame of listings in Brooklyn named `df_bk` \n",
    "# and find how many listings in just Brooklyn.\n",
    "brooklyn_mask = df['neighbourhood_group'] == 'Brooklyn'\n",
    "df_bk = df[brooklyn_mask].copy()\n",
    "df_bk.value_counts()\n"
   ]
  },
  {
   "cell_type": "code",
   "execution_count": 13,
   "metadata": {},
   "outputs": [
    {
     "data": {
      "text/plain": [
       "id        name                                                host_id    host_name    neighbourhood_group  neighbourhood       latitude  longitude  room_type        price  minimum_nights  number_of_reviews  last_review  reviews_per_month  calculated_host_listings_count  availability_365\n",
       "3831      Whole flr w/private bdrm, bath & kitchen(pls read)  4869       LisaRoxanne  Brooklyn             Clinton Hill        40.68514  -73.95976  Entire home/apt  75     1               340                2020-08-01   4.75               1                               265                 1\n",
       "5121      BlissArtsSpace!                                     7356       Garon        Brooklyn             Bedford-Stuyvesant  40.68688  -73.95596  Private room     60     29              50                 2019-12-02   0.37               1                               365                 1\n",
       "5803      Lovely Room 1, Garden, Best Area, Legal rental      9744       Laurie       Brooklyn             South Slope         40.66829  -73.98779  Private room     88     4               180                2020-03-18   1.31               3                               344                 1\n",
       "10452     Large B&B Style rooms                               35935      Angela       Brooklyn             Bedford-Stuyvesant  40.68310  -73.95473  Private room     70     3               75                 2019-10-12   0.60               2                               365                 1\n",
       "10962     Lovely Room 2; Garden; Best area, Legal             9744       Laurie       Brooklyn             South Slope         40.66869  -73.98780  Private room     88     4               180                2020-08-03   1.36               3                               365                 1\n",
       "                                                                                                                                                                                                                                                                                                  ..\n",
       "44414370  Fantastic room close to Subways toward Manhattan!   294748832  Bruna        Brooklyn             Bedford-Stuyvesant  40.68064  -73.91836  Private room     42     1               1                  2020-07-30   1.00               4                               178                 1\n",
       "44419098  Über Cozy room in Bushwick                          3731024    Andrew       Brooklyn             Bushwick            40.69702  -73.93239  Private room     65     2               1                  2020-08-09   1.00               1                               365                 1\n",
       "44435099  Private Room in Apartment You Can Rent in Brooklyn  358933697  Kenday       Brooklyn             East New York       40.67210  -73.87946  Private room     45     1               1                  2020-07-29   1.00               1                               344                 1\n",
       "44609727  Private room in a big apartment in Brooklyn         310776840  Alejandra    Brooklyn             Bedford-Stuyvesant  40.69146  -73.93433  Private room     40     1               1                  2020-08-09   1.00               4                               228                 1\n",
       "44633340  C.C - Brklyn Small but cozy room close to Subways   361101225  Roger        Brooklyn             Bushwick            40.68650  -73.90841  Private room     46     1               1                  2020-08-10   1.00               4                               364                 1\n",
       "Name: count, Length: 8234, dtype: int64"
      ]
     },
     "execution_count": 13,
     "metadata": {},
     "output_type": "execute_result"
    }
   ],
   "source": [
    "# 3. Find how many listings there are in Brooklyn with a price less than 100.\n",
    "bk_low = df[brooklyn_mask & price_condition]\n",
    "bk_low.value_counts()\n",
    "\n"
   ]
  },
  {
   "cell_type": "code",
   "execution_count": 15,
   "metadata": {},
   "outputs": [
    {
     "data": {
      "text/plain": [
       "id        name                                                host_id    host_name  neighbourhood_group  neighbourhood              latitude  longitude  room_type        price  minimum_nights  number_of_reviews  last_review  reviews_per_month  calculated_host_listings_count  availability_365\n",
       "16595     LOFT HAVEN ~ Six Windows ~ Bricks ~ Plants ~ Quiet  64522      Daniel     Brooklyn             Williamsburg               40.70933  -73.96792  Entire home/apt  271    1               172                2020-07-14   1.44               1                               365                 1\n",
       "61747     Cozy,  Brooklyn, Prospect Park Studio               299370     David      Brooklyn             Prospect-Lefferts Gardens  40.65979  -73.96180  Entire home/apt  91     14              97                 2018-01-31   0.83               1                               44                  1\n",
       "62903     Beautiful modern studio apartment in heart of NYC   306605     Daniel     Manhattan            Chelsea                    40.74238  -73.99567  Entire home/apt  205    15              68                 2019-12-14   0.67               2                               89                  1\n",
       "74073     Food & Music Dream Apartment in Williamsburg        211877     Daniel     Brooklyn             Williamsburg               40.71113  -73.96054  Entire home/apt  187    30              90                 2020-07-31   0.81               1                               261                 1\n",
       "138216    Sunny and Spacious Designer's Home                  674970     Michael    Brooklyn             Greenpoint                 40.72212  -73.94254  Entire home/apt  100    6               9                  2019-09-20   0.17               1                               0                   1\n",
       "                                                                                                                                                                                                                                                                                                       ..\n",
       "44081738  Smart & Safe entire home in Staten Island NY        352065598  Daniel     Staten Island        Oakwood                    40.56137  -74.10729  Entire home/apt  70     1               1                  2020-08-09   1.00               1                               256                 1\n",
       "44088976  Spacious oasis - office, private garden, parking    1704370    David      Brooklyn             Clinton Hill               40.68574  -73.96126  Entire home/apt  140    3               1                  2020-07-25   1.00               1                               17                  1\n",
       "44131715  Spotless upper east side full 1 bedroom apartment   118744531  Daniel     Manhattan            Upper East Side            40.76865  -73.95250  Entire home/apt  105    3               2                  2020-08-01   2.00               1                               43                  1\n",
       "44340349  Private Bedroom at a Great Location!!               303446068  John       Manhattan            Upper East Side            40.76150  -73.96198  Private room     81     6               1                  2020-07-29   1.00               1                               365                 1\n",
       "44662157  Flushing Sunshine home #102                         361579037  Daniel     Queens               Flushing                   40.74441  -73.82829  Private room     55     1               3                  2020-08-16   3.00               2                               365                 1\n",
       "Name: count, Length: 948, dtype: int64"
      ]
     },
     "execution_count": 15,
     "metadata": {},
     "output_type": "execute_result"
    }
   ],
   "source": [
    "# 4. Using `.isin()` select anyone that has the host name of Michael, David, John, and Daniel.\n",
    "# How many total are there that have those names\n",
    "name_mask = df.host_name.isin(['Michael', 'David', 'John', 'Daniel'])\n",
    "df[name_mask].value_counts()\n"
   ]
  },
  {
   "cell_type": "code",
   "execution_count": null,
   "metadata": {},
   "outputs": [
    {
     "data": {
      "text/plain": [
       "id        name                                               host_id    host_name      neighbourhood_group  neighbourhood  latitude  longitude  room_type        price  minimum_nights  number_of_reviews  last_review  reviews_per_month  calculated_host_listings_count  availability_365  adjusted_price\n",
       "6848      Only 2 stops to Manhattan studio                   15991      Allen & Irina  Brooklyn             Williamsburg   40.70837  -73.95352  Entire home/apt  109    2               181                2020-03-16   1.32               1                               0                 209.0             1\n",
       "7801      Sweet and Spacious Brooklyn Loft                   21207      Chaya          Brooklyn             Williamsburg   40.71842  -73.95718  Entire home/apt  299    3               9                  2011-12-28   0.07               1                               337               399.0             1\n",
       "14290     * ORIGINAL BROOKLYN LOFT *                         56104      James          Brooklyn             Williamsburg   40.70420  -73.93560  Entire home/apt  131    3               95                 2020-05-28   0.73               1                               164               231.0             1\n",
       "14377     Williamsburg 1 bedroom Apartment                   56512      Joanna         Brooklyn             Williamsburg   40.70881  -73.95930  Entire home/apt  175    10              113                2020-01-24   0.87               1                               165               275.0             1\n",
       "15385     Very, very cozy place                              60252      Cristina       Brooklyn             Williamsburg   40.71185  -73.96204  Private room     80     7               49                 2020-02-07   0.39               1                               229               180.0             1\n",
       "                                                                                                                                                                                                                                                                                                              ..\n",
       "43847857  Perfect Williamsburg Studio in Brand New Building  350711081  Julian         Brooklyn             Williamsburg   40.70947  -73.96831  Entire home/apt  118    20              1                  2020-07-22   1.00               2                               336               218.0             1\n",
       "43855371  A cozy room in Prime Williamsburg                  374503     Claudia        Brooklyn             Williamsburg   40.71454  -73.94661  Private room     45     3               5                  2020-08-14   3.06               2                               5                 145.0             1\n",
       "44032283  Huge 1 Bedroom Williamsburg Loft, Brooklyn, NYC    81158596   Matthew        Brooklyn             Williamsburg   40.70796  -73.95394  Entire home/apt  147    1               5                  2020-07-30   5.00               1                               0                 247.0             1\n",
       "44085758  Willy Nilly 1 Bed + Sleeper Sofa + Crazy Roofdeck  353668375  Lynn           Brooklyn             Williamsburg   40.71401  -73.96333  Entire home/apt  180    3               4                  2020-07-27   3.08               1                               322               280.0             1\n",
       "44151723  Minimalist room w/ A/C,  gym access and city view  179017459  Douglas        Brooklyn             Williamsburg   40.71030  -73.93886  Private room     65     1               2                  2020-08-10   2.00               1                               178               165.0             1\n",
       "Name: count, Length: 2744, dtype: int64"
      ]
     },
     "execution_count": 38,
     "metadata": {},
     "output_type": "execute_result"
    }
   ],
   "source": [
    "# 5. Create a new column called `adjusted_price` that has $100 added to every listing in Williamsburg.  \n",
    "# The prices for all other listings should be the same as the were before. \n",
    "williamsburg_mask = df['neighbourhood'] == 'Williamsburg'\n",
    "df['adjusted_price'] = df[williamsburg_mask]['price'] + 100\n",
    "df[williamsburg_mask].value_counts()\n"
   ]
  },
  {
   "cell_type": "code",
   "execution_count": 50,
   "metadata": {},
   "outputs": [
    {
     "name": "stdout",
     "output_type": "stream",
     "text": [
      "id        name                                                host_id    host_name  neighbourhood_group  neighbourhood  latitude  longitude  room_type     price  minimum_nights  number_of_reviews  last_review  reviews_per_month  calculated_host_listings_count  availability_365  adjusted_price\n",
      "15385     Very, very cozy place                               60252      Cristina   Brooklyn             Williamsburg   40.71185  -73.96204  Private room  80     7               49                 2020-02-07   0.39               1                               229               180.0             0.000047\n",
      "18764     Cozy 2 BR in Williamsburg                           72014      Yvelisa    Brooklyn             Williamsburg   40.71154  -73.96112  Private room  145    3               63                 2019-08-04   0.50               2                               365               245.0             0.000047\n",
      "20611     Cozy Bedroom in Williamsburg 3 BR                   72014      Yvelisa    Brooklyn             Williamsburg   40.71156  -73.96218  Private room  85     3               193                2019-12-18   1.52               2                               365               185.0             0.000047\n",
      "24143     Williamsburg—Steps To Subway, Private Bath&Balcony  97219      Seth       Brooklyn             Williamsburg   40.71332  -73.94177  Private room  112    3               352                2020-03-12   2.83               1                               58                212.0             0.000047\n",
      "39282     “Work-from-home” from OUR home.                     168525     Gus        Brooklyn             Williamsburg   40.71088  -73.95055  Private room  50     4               219                2020-07-16   1.79               1                               60                150.0             0.000047\n",
      "                                                                                                                                                                                                                                                                                                           ...   \n",
      "43554591  Cozy room in the heart of Williamsburg              347667434  Nadia      Brooklyn             Williamsburg   40.71498  -73.95683  Private room  33     7               1                  2020-06-21   0.53               1                               203               133.0             0.000047\n",
      "43784140  Sunny room in Williamsburg BK                       10171531   Louisa     Brooklyn             Williamsburg   40.71000  -73.95587  Private room  45     15              1                  2020-07-28   1.00               1                               364               145.0             0.000047\n",
      "43847664  Best Value and Location Williamsburg has to offer   315563761  Phil       Brooklyn             Williamsburg   40.71732  -73.95852  Private room  49     2               6                  2020-08-13   4.19               1                               239               149.0             0.000047\n",
      "43855371  A cozy room in Prime Williamsburg                   374503     Claudia    Brooklyn             Williamsburg   40.71454  -73.94661  Private room  45     3               5                  2020-08-14   3.06               2                               5                 145.0             0.000047\n",
      "44151723  Minimalist room w/ A/C,  gym access and city view   179017459  Douglas    Brooklyn             Williamsburg   40.71030  -73.93886  Private room  65     1               2                  2020-08-10   2.00               1                               178               165.0             0.000047\n",
      "Name: count, Length: 1337, dtype: float64\n",
      "id        name                                                host_id    host_name  neighbourhood_group  neighbourhood  latitude  longitude  room_type    price  minimum_nights  number_of_reviews  last_review  reviews_per_month  calculated_host_listings_count  availability_365  adjusted_price\n",
      "765203    Art Lover's Abode Brooklyn                          2276842    Debbie     Brooklyn             Williamsburg   40.70745  -73.94307  Shared room  68     3               20                 2019-10-13   0.36               2                               0                 168.0             0.001013\n",
      "2010787   Amazing Williamsburg/Greenpoint Apt w/ 2 Terraces!  1859395    Beto       Brooklyn             Williamsburg   40.71861  -73.94362  Shared room  125    7               7                  2016-11-26   0.09               1                               358               225.0             0.001013\n",
      "6196354   A Cosy Couch In East Williamsburg Near Train.       31621291   Elisabeth  Brooklyn             Williamsburg   40.70472  -73.93784  Shared room  35     1               273                2020-08-06   4.24               2                               45                135.0             0.001013\n",
      "6743346   Wildlife Loft Living room adventure                 5556571    Chris      Brooklyn             Williamsburg   40.70645  -73.93790  Shared room  28     3               32                 2020-01-01   0.51               3                               364               128.0             0.001013\n",
      "10405711  Williamsburg Luxury                                 9679291    Indiana    Brooklyn             Williamsburg   40.71077  -73.96259  Shared room  68     1               1                  2016-03-26   0.02               1                               0                 168.0             0.001013\n",
      "14421258  1 BR in Williamsburg with private balcony!          31344441   Alexa      Brooklyn             Williamsburg   40.71346  -73.95689  Shared room  150    1               4                  2017-01-01   0.09               1                               0                 250.0             0.001013\n",
      "19414154  Cozy room in heart of Williamsburg                  136106661  Sally      Brooklyn             Williamsburg   40.71078  -73.95071  Shared room  170    15              4                  2018-04-30   0.11               1                               83                270.0             0.001013\n",
      "21271180  Bed in loft apartment east Williamsburg/bushwick    133146682  Kate       Brooklyn             Williamsburg   40.70614  -73.92756  Shared room  45     1               2                  2017-11-20   0.06               1                               0                 145.0             0.001013\n",
      "23466360  Comfy Brooklyn Studio                               111782745  Brian      Brooklyn             Williamsburg   40.70477  -73.93206  Shared room  21     2               8                  2018-04-07   0.27               2                               0                 121.0             0.001013\n",
      "32234380  Cozy spot in hipster East Williamsburg              241870258  Reesey     Brooklyn             Williamsburg   40.71363  -73.93615  Shared room  75     1               2                  2019-04-06   0.12               2                               0                 175.0             0.001013\n",
      "32635569  Big Sunny Bedroom in W.burg with 1k sq ft Garden    3002665    Zoe        Brooklyn             Williamsburg   40.71460  -73.94167  Shared room  105    1               5                  2020-02-21   0.33               1                               365               205.0             0.001013\n",
      "35931169  Great Room  Great Location Williamsburg             35082637   Ollya      Brooklyn             Williamsburg   40.71655  -73.96416  Shared room  101    3               12                 2019-12-08   0.87               2                               168               201.0             0.001013\n",
      "36979307  Beautiful loft in the heart of Williamsburg!        65679790   Catalina   Brooklyn             Williamsburg   40.71807  -73.96060  Shared room  208    1               5                  2019-10-13   0.41               1                               88                308.0             0.001013\n",
      "37208986  Creative Shared Studio Loft in South Williamsburg   509917     Rebecka    Brooklyn             Williamsburg   40.70821  -73.95580  Shared room  45     1               4                  2020-01-10   0.32               1                               88                145.0             0.001013\n",
      "41048662  Private Sunny Williamsburg Home with Courtyard      4372524    Iain       Brooklyn             Williamsburg   40.71581  -73.95106  Shared room  123    4               3                  2020-03-17   0.50               1                               0                 223.0             0.001013\n",
      "Name: count, dtype: float64\n"
     ]
    }
   ],
   "source": [
    "# 6. What % of the rooms are private, and what % of the rooms are shared.  \n",
    "private_condition = df['room_type'] == 'Private room'\n",
    "private_rooms = df[private_condition].value_counts()/df['room_type'].value_counts()\n",
    "shared_condition = df['room_type'] == 'Shared room'\n",
    "shared_rooms = df[shared_condition].value_counts()/df['room_type'].value_counts()\n",
    "print(private_rooms)\n",
    "print(shared_rooms)\n",
    "\n"
   ]
  },
  {
   "cell_type": "markdown",
   "metadata": {},
   "source": [
    "# Exercise 3 - Grouping\n",
    "\n",
    "1. Using `groupby`, count how many listings are in each neighbourhood_group.\n",
    "\n",
    "\n",
    "2. Using `groupby`, find the mean price for each of the neighbourhood_groups. \n",
    "\n",
    "\n",
    "3. Using `groupby` and `.agg()`, find the min and max price for each of the neighbourhood_groups. \n",
    "\n",
    "\n",
    "4. Using `groupby`, find the median price for each room type in each neighbourhood_group.\n",
    "\n",
    "\n",
    "5. Using `groupby` and `.agg()`, find the count, min, max, mean, median, and std of the prices for each room type in each neighbourhood_group."
   ]
  },
  {
   "cell_type": "code",
   "execution_count": 39,
   "metadata": {},
   "outputs": [
    {
     "data": {
      "text/plain": [
       "neighbourhood_group\n",
       "Bronx             1183\n",
       "Brooklyn         18632\n",
       "Manhattan        20580\n",
       "Queens            5791\n",
       "Staten Island      341\n",
       "dtype: int64"
      ]
     },
     "execution_count": 39,
     "metadata": {},
     "output_type": "execute_result"
    }
   ],
   "source": [
    "# 1. Using `groupby`, count how many listings are in each neighbourhood_group.\n",
    "df.head()\n",
    "gb = df.groupby('neighbourhood_group')\n",
    "gb.size()\n"
   ]
  },
  {
   "cell_type": "code",
   "execution_count": 40,
   "metadata": {},
   "outputs": [
    {
     "data": {
      "text/plain": [
       "neighbourhood_group\n",
       "Bronx             92.751479\n",
       "Brooklyn         120.225258\n",
       "Manhattan        191.880466\n",
       "Queens            99.754965\n",
       "Staten Island    110.947214\n",
       "Name: price, dtype: float64"
      ]
     },
     "execution_count": 40,
     "metadata": {},
     "output_type": "execute_result"
    }
   ],
   "source": [
    "# 2. Using `groupby`, find the mean price for each of the neighbourhood_groups. \n",
    "gb['price'].mean()\n",
    "\n"
   ]
  },
  {
   "cell_type": "code",
   "execution_count": null,
   "metadata": {},
   "outputs": [
    {
     "data": {
      "text/plain": [
       "room_type\n",
       "Entire home/apt    199.395950\n",
       "Hotel room         275.015075\n",
       "Private room        91.453084\n",
       "Shared room         87.063830\n",
       "Name: price, dtype: float64"
      ]
     },
     "execution_count": 44,
     "metadata": {},
     "output_type": "execute_result"
    }
   ],
   "source": [
    "# 2.5. Using `groupby`, find the mean price for each room_type. \n",
    "groupby_room = ['room_type']\n",
    "gb = df.groupby(groupby_room)\n",
    "gb['price'].mean()"
   ]
  },
  {
   "cell_type": "code",
   "execution_count": 52,
   "metadata": {},
   "outputs": [
    {
     "data": {
      "text/html": [
       "<div>\n",
       "<style scoped>\n",
       "    .dataframe tbody tr th:only-of-type {\n",
       "        vertical-align: middle;\n",
       "    }\n",
       "\n",
       "    .dataframe tbody tr th {\n",
       "        vertical-align: top;\n",
       "    }\n",
       "\n",
       "    .dataframe thead th {\n",
       "        text-align: right;\n",
       "    }\n",
       "</style>\n",
       "<table border=\"1\" class=\"dataframe\">\n",
       "  <thead>\n",
       "    <tr style=\"text-align: right;\">\n",
       "      <th></th>\n",
       "      <th>min</th>\n",
       "      <th>max</th>\n",
       "    </tr>\n",
       "    <tr>\n",
       "      <th>neighbourhood_group</th>\n",
       "      <th></th>\n",
       "      <th></th>\n",
       "    </tr>\n",
       "  </thead>\n",
       "  <tbody>\n",
       "    <tr>\n",
       "      <th>Bronx</th>\n",
       "      <td>16</td>\n",
       "      <td>1404</td>\n",
       "    </tr>\n",
       "    <tr>\n",
       "      <th>Brooklyn</th>\n",
       "      <td>0</td>\n",
       "      <td>10000</td>\n",
       "    </tr>\n",
       "    <tr>\n",
       "      <th>Manhattan</th>\n",
       "      <td>0</td>\n",
       "      <td>10000</td>\n",
       "    </tr>\n",
       "    <tr>\n",
       "      <th>Queens</th>\n",
       "      <td>0</td>\n",
       "      <td>10000</td>\n",
       "    </tr>\n",
       "    <tr>\n",
       "      <th>Staten Island</th>\n",
       "      <td>19</td>\n",
       "      <td>1200</td>\n",
       "    </tr>\n",
       "  </tbody>\n",
       "</table>\n",
       "</div>"
      ],
      "text/plain": [
       "                     min    max\n",
       "neighbourhood_group            \n",
       "Bronx                 16   1404\n",
       "Brooklyn               0  10000\n",
       "Manhattan              0  10000\n",
       "Queens                 0  10000\n",
       "Staten Island         19   1200"
      ]
     },
     "execution_count": 52,
     "metadata": {},
     "output_type": "execute_result"
    }
   ],
   "source": [
    "# 3. Using `groupby` and `.agg()`, find the min and max price for each of the neighbourhood_groups. \n",
    "gb = df.groupby('neighbourhood_group')\n",
    "gb['price'].agg(['min','max'])\n",
    "\n"
   ]
  },
  {
   "cell_type": "code",
   "execution_count": 53,
   "metadata": {},
   "outputs": [
    {
     "data": {
      "text/plain": [
       "neighbourhood_group  room_type      \n",
       "Bronx                Entire home/apt    138.004819\n",
       "                     Private room        68.419668\n",
       "                     Shared room         66.391304\n",
       "Brooklyn             Entire home/apt    171.587687\n",
       "                     Hotel room         147.300000\n",
       "                     Private room        71.291189\n",
       "                     Shared room         57.870091\n",
       "Manhattan            Entire home/apt    231.335572\n",
       "                     Hotel room         292.515670\n",
       "                     Private room       128.277069\n",
       "                     Shared room        111.735084\n",
       "Queens               Entire home/apt    150.168900\n",
       "                     Hotel room         139.058824\n",
       "                     Private room        69.972564\n",
       "                     Shared room         89.891892\n",
       "Staten Island        Entire home/apt    151.720930\n",
       "                     Private room        70.312883\n",
       "                     Shared room         46.000000\n",
       "Name: price, dtype: float64"
      ]
     },
     "execution_count": 53,
     "metadata": {},
     "output_type": "execute_result"
    }
   ],
   "source": [
    "# 4. Using `groupby`, find the mean price for each room_type in each neighbourhood_group.\n",
    "gb_cols = ['neighbourhood_group', 'room_type']\n",
    "gb = df.groupby(gb_cols)\n",
    "gb['price'].mean()\n"
   ]
  },
  {
   "cell_type": "code",
   "execution_count": 54,
   "metadata": {},
   "outputs": [
    {
     "data": {
      "text/html": [
       "<div>\n",
       "<style scoped>\n",
       "    .dataframe tbody tr th:only-of-type {\n",
       "        vertical-align: middle;\n",
       "    }\n",
       "\n",
       "    .dataframe tbody tr th {\n",
       "        vertical-align: top;\n",
       "    }\n",
       "\n",
       "    .dataframe thead th {\n",
       "        text-align: right;\n",
       "    }\n",
       "</style>\n",
       "<table border=\"1\" class=\"dataframe\">\n",
       "  <thead>\n",
       "    <tr style=\"text-align: right;\">\n",
       "      <th></th>\n",
       "      <th></th>\n",
       "      <th>count</th>\n",
       "      <th>min</th>\n",
       "      <th>max</th>\n",
       "      <th>mean</th>\n",
       "      <th>median</th>\n",
       "      <th>std</th>\n",
       "      <th>sum</th>\n",
       "    </tr>\n",
       "    <tr>\n",
       "      <th>neighbourhood_group</th>\n",
       "      <th>room_type</th>\n",
       "      <th></th>\n",
       "      <th></th>\n",
       "      <th></th>\n",
       "      <th></th>\n",
       "      <th></th>\n",
       "      <th></th>\n",
       "      <th></th>\n",
       "    </tr>\n",
       "  </thead>\n",
       "  <tbody>\n",
       "    <tr>\n",
       "      <th rowspan=\"3\" valign=\"top\">Bronx</th>\n",
       "      <th>Entire home/apt</th>\n",
       "      <td>415</td>\n",
       "      <td>25</td>\n",
       "      <td>1404</td>\n",
       "      <td>138.004819</td>\n",
       "      <td>103.0</td>\n",
       "      <td>126.032106</td>\n",
       "      <td>57272</td>\n",
       "    </tr>\n",
       "    <tr>\n",
       "      <th>Private room</th>\n",
       "      <td>722</td>\n",
       "      <td>16</td>\n",
       "      <td>700</td>\n",
       "      <td>68.419668</td>\n",
       "      <td>55.0</td>\n",
       "      <td>57.337866</td>\n",
       "      <td>49399</td>\n",
       "    </tr>\n",
       "    <tr>\n",
       "      <th>Shared room</th>\n",
       "      <td>46</td>\n",
       "      <td>20</td>\n",
       "      <td>800</td>\n",
       "      <td>66.391304</td>\n",
       "      <td>44.0</td>\n",
       "      <td>114.442703</td>\n",
       "      <td>3054</td>\n",
       "    </tr>\n",
       "    <tr>\n",
       "      <th rowspan=\"4\" valign=\"top\">Brooklyn</th>\n",
       "      <th>Entire home/apt</th>\n",
       "      <td>9112</td>\n",
       "      <td>20</td>\n",
       "      <td>10000</td>\n",
       "      <td>171.587687</td>\n",
       "      <td>135.0</td>\n",
       "      <td>236.732843</td>\n",
       "      <td>1563507</td>\n",
       "    </tr>\n",
       "    <tr>\n",
       "      <th>Hotel room</th>\n",
       "      <td>30</td>\n",
       "      <td>0</td>\n",
       "      <td>399</td>\n",
       "      <td>147.300000</td>\n",
       "      <td>129.0</td>\n",
       "      <td>91.153206</td>\n",
       "      <td>4419</td>\n",
       "    </tr>\n",
       "    <tr>\n",
       "      <th>Private room</th>\n",
       "      <td>9159</td>\n",
       "      <td>10</td>\n",
       "      <td>2500</td>\n",
       "      <td>71.291189</td>\n",
       "      <td>60.0</td>\n",
       "      <td>69.023165</td>\n",
       "      <td>652956</td>\n",
       "    </tr>\n",
       "    <tr>\n",
       "      <th>Shared room</th>\n",
       "      <td>331</td>\n",
       "      <td>15</td>\n",
       "      <td>1500</td>\n",
       "      <td>57.870091</td>\n",
       "      <td>36.0</td>\n",
       "      <td>92.217618</td>\n",
       "      <td>19155</td>\n",
       "    </tr>\n",
       "    <tr>\n",
       "      <th rowspan=\"4\" valign=\"top\">Manhattan</th>\n",
       "      <th>Entire home/apt</th>\n",
       "      <td>12209</td>\n",
       "      <td>0</td>\n",
       "      <td>10000</td>\n",
       "      <td>231.335572</td>\n",
       "      <td>165.0</td>\n",
       "      <td>410.306439</td>\n",
       "      <td>2824376</td>\n",
       "    </tr>\n",
       "    <tr>\n",
       "      <th>Hotel room</th>\n",
       "      <td>351</td>\n",
       "      <td>0</td>\n",
       "      <td>2211</td>\n",
       "      <td>292.515670</td>\n",
       "      <td>210.0</td>\n",
       "      <td>315.924085</td>\n",
       "      <td>102673</td>\n",
       "    </tr>\n",
       "    <tr>\n",
       "      <th>Private room</th>\n",
       "      <td>7601</td>\n",
       "      <td>10</td>\n",
       "      <td>10000</td>\n",
       "      <td>128.277069</td>\n",
       "      <td>80.0</td>\n",
       "      <td>448.677306</td>\n",
       "      <td>975034</td>\n",
       "    </tr>\n",
       "    <tr>\n",
       "      <th>Shared room</th>\n",
       "      <td>419</td>\n",
       "      <td>10</td>\n",
       "      <td>10000</td>\n",
       "      <td>111.735084</td>\n",
       "      <td>60.0</td>\n",
       "      <td>502.728868</td>\n",
       "      <td>46817</td>\n",
       "    </tr>\n",
       "    <tr>\n",
       "      <th rowspan=\"4\" valign=\"top\">Queens</th>\n",
       "      <th>Entire home/apt</th>\n",
       "      <td>2090</td>\n",
       "      <td>10</td>\n",
       "      <td>10000</td>\n",
       "      <td>150.168900</td>\n",
       "      <td>115.0</td>\n",
       "      <td>252.606739</td>\n",
       "      <td>313853</td>\n",
       "    </tr>\n",
       "    <tr>\n",
       "      <th>Hotel room</th>\n",
       "      <td>17</td>\n",
       "      <td>0</td>\n",
       "      <td>249</td>\n",
       "      <td>139.058824</td>\n",
       "      <td>149.0</td>\n",
       "      <td>50.743806</td>\n",
       "      <td>2364</td>\n",
       "    </tr>\n",
       "    <tr>\n",
       "      <th>Private room</th>\n",
       "      <td>3499</td>\n",
       "      <td>18</td>\n",
       "      <td>9000</td>\n",
       "      <td>69.972564</td>\n",
       "      <td>55.0</td>\n",
       "      <td>163.814468</td>\n",
       "      <td>244834</td>\n",
       "    </tr>\n",
       "    <tr>\n",
       "      <th>Shared room</th>\n",
       "      <td>185</td>\n",
       "      <td>14</td>\n",
       "      <td>3000</td>\n",
       "      <td>89.891892</td>\n",
       "      <td>40.0</td>\n",
       "      <td>275.675158</td>\n",
       "      <td>16630</td>\n",
       "    </tr>\n",
       "    <tr>\n",
       "      <th rowspan=\"3\" valign=\"top\">Staten Island</th>\n",
       "      <th>Entire home/apt</th>\n",
       "      <td>172</td>\n",
       "      <td>39</td>\n",
       "      <td>1200</td>\n",
       "      <td>151.720930</td>\n",
       "      <td>111.0</td>\n",
       "      <td>147.518392</td>\n",
       "      <td>26096</td>\n",
       "    </tr>\n",
       "    <tr>\n",
       "      <th>Private room</th>\n",
       "      <td>163</td>\n",
       "      <td>20</td>\n",
       "      <td>800</td>\n",
       "      <td>70.312883</td>\n",
       "      <td>55.0</td>\n",
       "      <td>70.759593</td>\n",
       "      <td>11461</td>\n",
       "    </tr>\n",
       "    <tr>\n",
       "      <th>Shared room</th>\n",
       "      <td>6</td>\n",
       "      <td>19</td>\n",
       "      <td>82</td>\n",
       "      <td>46.000000</td>\n",
       "      <td>38.0</td>\n",
       "      <td>28.446441</td>\n",
       "      <td>276</td>\n",
       "    </tr>\n",
       "  </tbody>\n",
       "</table>\n",
       "</div>"
      ],
      "text/plain": [
       "                                     count  min    max        mean  median  \\\n",
       "neighbourhood_group room_type                                                \n",
       "Bronx               Entire home/apt    415   25   1404  138.004819   103.0   \n",
       "                    Private room       722   16    700   68.419668    55.0   \n",
       "                    Shared room         46   20    800   66.391304    44.0   \n",
       "Brooklyn            Entire home/apt   9112   20  10000  171.587687   135.0   \n",
       "                    Hotel room          30    0    399  147.300000   129.0   \n",
       "                    Private room      9159   10   2500   71.291189    60.0   \n",
       "                    Shared room        331   15   1500   57.870091    36.0   \n",
       "Manhattan           Entire home/apt  12209    0  10000  231.335572   165.0   \n",
       "                    Hotel room         351    0   2211  292.515670   210.0   \n",
       "                    Private room      7601   10  10000  128.277069    80.0   \n",
       "                    Shared room        419   10  10000  111.735084    60.0   \n",
       "Queens              Entire home/apt   2090   10  10000  150.168900   115.0   \n",
       "                    Hotel room          17    0    249  139.058824   149.0   \n",
       "                    Private room      3499   18   9000   69.972564    55.0   \n",
       "                    Shared room        185   14   3000   89.891892    40.0   \n",
       "Staten Island       Entire home/apt    172   39   1200  151.720930   111.0   \n",
       "                    Private room       163   20    800   70.312883    55.0   \n",
       "                    Shared room          6   19     82   46.000000    38.0   \n",
       "\n",
       "                                            std      sum  \n",
       "neighbourhood_group room_type                             \n",
       "Bronx               Entire home/apt  126.032106    57272  \n",
       "                    Private room      57.337866    49399  \n",
       "                    Shared room      114.442703     3054  \n",
       "Brooklyn            Entire home/apt  236.732843  1563507  \n",
       "                    Hotel room        91.153206     4419  \n",
       "                    Private room      69.023165   652956  \n",
       "                    Shared room       92.217618    19155  \n",
       "Manhattan           Entire home/apt  410.306439  2824376  \n",
       "                    Hotel room       315.924085   102673  \n",
       "                    Private room     448.677306   975034  \n",
       "                    Shared room      502.728868    46817  \n",
       "Queens              Entire home/apt  252.606739   313853  \n",
       "                    Hotel room        50.743806     2364  \n",
       "                    Private room     163.814468   244834  \n",
       "                    Shared room      275.675158    16630  \n",
       "Staten Island       Entire home/apt  147.518392    26096  \n",
       "                    Private room      70.759593    11461  \n",
       "                    Shared room       28.446441      276  "
      ]
     },
     "execution_count": 54,
     "metadata": {},
     "output_type": "execute_result"
    }
   ],
   "source": [
    "# 5. Using `groupby` and `.agg()`, find the count, min, max, mean, median, and std of the prices \n",
    "# for each room type in each neighbourhood_group.\n",
    "gb_cols = ['neighbourhood_group', 'room_type']\n",
    "gb = df.groupby(gb_cols)\n",
    "gb['price'].agg( ['count', 'min', 'max', 'mean', 'median', 'std', 'sum'] )\n",
    "\n"
   ]
  },
  {
   "cell_type": "markdown",
   "metadata": {},
   "source": [
    "# Load, Merge, and Export files.\n",
    "1. Load the `prices.csv` and the `n_listings.csv`\n",
    "    * Having an error..? Inspect the actual csv file if you're having trouble\n",
    "\n",
    "2. Do join that keeps all the records for each table.\n",
    "    * Neighbourhood groups should include ['Bronx', 'Brooklyn', 'Manhattan', 'Queens', 'Staten Island',\n",
    "       'LongIsland']\n",
    "\n",
    "       \n",
    "3. Save your joined csv as `joined.csv` into the data folder. \n",
    "\n",
    "\n",
    "4. Load your saved table and see if it looks the same or different that the DataFrame you used to create it. "
   ]
  },
  {
   "cell_type": "code",
   "execution_count": 63,
   "metadata": {},
   "outputs": [
    {
     "data": {
      "text/html": [
       "<div>\n",
       "<style scoped>\n",
       "    .dataframe tbody tr th:only-of-type {\n",
       "        vertical-align: middle;\n",
       "    }\n",
       "\n",
       "    .dataframe tbody tr th {\n",
       "        vertical-align: top;\n",
       "    }\n",
       "\n",
       "    .dataframe thead th {\n",
       "        text-align: right;\n",
       "    }\n",
       "</style>\n",
       "<table border=\"1\" class=\"dataframe\">\n",
       "  <thead>\n",
       "    <tr style=\"text-align: right;\">\n",
       "      <th></th>\n",
       "      <th>neighbourhood_group</th>\n",
       "      <th>n_listings</th>\n",
       "    </tr>\n",
       "  </thead>\n",
       "  <tbody>\n",
       "    <tr>\n",
       "      <th>0</th>\n",
       "      <td>Bronx</td>\n",
       "      <td>1183</td>\n",
       "    </tr>\n",
       "    <tr>\n",
       "      <th>1</th>\n",
       "      <td>Brooklyn</td>\n",
       "      <td>18632</td>\n",
       "    </tr>\n",
       "    <tr>\n",
       "      <th>2</th>\n",
       "      <td>Manhattan</td>\n",
       "      <td>20580</td>\n",
       "    </tr>\n",
       "    <tr>\n",
       "      <th>3</th>\n",
       "      <td>LongIsland</td>\n",
       "      <td>4121</td>\n",
       "    </tr>\n",
       "  </tbody>\n",
       "</table>\n",
       "</div>"
      ],
      "text/plain": [
       "  neighbourhood_group  n_listings\n",
       "0               Bronx        1183\n",
       "1            Brooklyn       18632\n",
       "2           Manhattan       20580\n",
       "3          LongIsland        4121"
      ]
     },
     "execution_count": 63,
     "metadata": {},
     "output_type": "execute_result"
    }
   ],
   "source": [
    "# 1. Load the `prices.csv` and the `n_listings.csv`\n",
    "df_prices = pd.read_csv('/workspaces/ds-fall-2025-fri-1230/Week-01-Pandas/data/prices.csv')\n",
    "df_prices.head()\n",
    "df_nlistings = pd.read_csv('/workspaces/ds-fall-2025-fri-1230/Week-01-Pandas/data/n_listings.csv', sep=';')\n",
    "df_nlistings.head()"
   ]
  },
  {
   "cell_type": "code",
   "execution_count": 67,
   "metadata": {},
   "outputs": [
    {
     "data": {
      "text/html": [
       "<div>\n",
       "<style scoped>\n",
       "    .dataframe tbody tr th:only-of-type {\n",
       "        vertical-align: middle;\n",
       "    }\n",
       "\n",
       "    .dataframe tbody tr th {\n",
       "        vertical-align: top;\n",
       "    }\n",
       "\n",
       "    .dataframe thead th {\n",
       "        text-align: right;\n",
       "    }\n",
       "</style>\n",
       "<table border=\"1\" class=\"dataframe\">\n",
       "  <thead>\n",
       "    <tr style=\"text-align: right;\">\n",
       "      <th></th>\n",
       "      <th>neighbourhood_group</th>\n",
       "      <th>mean_price</th>\n",
       "      <th>n_listings</th>\n",
       "    </tr>\n",
       "  </thead>\n",
       "  <tbody>\n",
       "    <tr>\n",
       "      <th>0</th>\n",
       "      <td>Bronx</td>\n",
       "      <td>92.751479</td>\n",
       "      <td>1183.0</td>\n",
       "    </tr>\n",
       "    <tr>\n",
       "      <th>1</th>\n",
       "      <td>Brooklyn</td>\n",
       "      <td>120.225258</td>\n",
       "      <td>18632.0</td>\n",
       "    </tr>\n",
       "    <tr>\n",
       "      <th>2</th>\n",
       "      <td>Manhattan</td>\n",
       "      <td>191.880466</td>\n",
       "      <td>20580.0</td>\n",
       "    </tr>\n",
       "    <tr>\n",
       "      <th>3</th>\n",
       "      <td>Queens</td>\n",
       "      <td>99.754965</td>\n",
       "      <td>NaN</td>\n",
       "    </tr>\n",
       "    <tr>\n",
       "      <th>4</th>\n",
       "      <td>Staten Island</td>\n",
       "      <td>110.947214</td>\n",
       "      <td>NaN</td>\n",
       "    </tr>\n",
       "  </tbody>\n",
       "</table>\n",
       "</div>"
      ],
      "text/plain": [
       "  neighbourhood_group   mean_price  n_listings\n",
       "0               Bronx    92.751479      1183.0\n",
       "1            Brooklyn   120.225258     18632.0\n",
       "2           Manhattan   191.880466     20580.0\n",
       "3              Queens    99.754965         NaN\n",
       "4       Staten Island   110.947214         NaN"
      ]
     },
     "execution_count": 67,
     "metadata": {},
     "output_type": "execute_result"
    }
   ],
   "source": [
    "# 2. Do join that keeps all the records for each table.\n",
    "dfmerged = pd.merge(df_prices, df_nlistings, on='neighbourhood_group', how='left')\n",
    "dfmerged"
   ]
  },
  {
   "cell_type": "code",
   "execution_count": 68,
   "metadata": {},
   "outputs": [
    {
     "name": "stdout",
     "output_type": "stream",
     "text": [
      "neighbourhood_group, mean_price,n_listings\n",
      "\n",
      "Bronx,92.75147928994085,1183.0\n",
      "\n",
      "Brooklyn,120.22525762129668,18632.0\n",
      "\n",
      "Manhattan,191.8804664723032,20580.0\n",
      "\n",
      "Queens,99.75496460024176,\n",
      "\n",
      "Staten Island,110.94721407624634,\n",
      "\n"
     ]
    }
   ],
   "source": [
    "# 3. Save your joined csv as `joined.csv` into the data folder. \n",
    "save_as = 'joined.csv'\n",
    "dfmerged.to_csv(save_as, index=False)\n",
    "with open(save_as, 'rt') as text_file:\n",
    "    for line in text_file.readlines():\n",
    "        print(line)\n"
   ]
  },
  {
   "cell_type": "code",
   "execution_count": 69,
   "metadata": {},
   "outputs": [
    {
     "data": {
      "text/html": [
       "<div>\n",
       "<style scoped>\n",
       "    .dataframe tbody tr th:only-of-type {\n",
       "        vertical-align: middle;\n",
       "    }\n",
       "\n",
       "    .dataframe tbody tr th {\n",
       "        vertical-align: top;\n",
       "    }\n",
       "\n",
       "    .dataframe thead th {\n",
       "        text-align: right;\n",
       "    }\n",
       "</style>\n",
       "<table border=\"1\" class=\"dataframe\">\n",
       "  <thead>\n",
       "    <tr style=\"text-align: right;\">\n",
       "      <th></th>\n",
       "      <th>neighbourhood_group</th>\n",
       "      <th>mean_price</th>\n",
       "      <th>n_listings</th>\n",
       "    </tr>\n",
       "  </thead>\n",
       "  <tbody>\n",
       "    <tr>\n",
       "      <th>0</th>\n",
       "      <td>Bronx</td>\n",
       "      <td>92.751479</td>\n",
       "      <td>1183.0</td>\n",
       "    </tr>\n",
       "    <tr>\n",
       "      <th>1</th>\n",
       "      <td>Brooklyn</td>\n",
       "      <td>120.225258</td>\n",
       "      <td>18632.0</td>\n",
       "    </tr>\n",
       "    <tr>\n",
       "      <th>2</th>\n",
       "      <td>Manhattan</td>\n",
       "      <td>191.880466</td>\n",
       "      <td>20580.0</td>\n",
       "    </tr>\n",
       "    <tr>\n",
       "      <th>3</th>\n",
       "      <td>Queens</td>\n",
       "      <td>99.754965</td>\n",
       "      <td>NaN</td>\n",
       "    </tr>\n",
       "    <tr>\n",
       "      <th>4</th>\n",
       "      <td>Staten Island</td>\n",
       "      <td>110.947214</td>\n",
       "      <td>NaN</td>\n",
       "    </tr>\n",
       "  </tbody>\n",
       "</table>\n",
       "</div>"
      ],
      "text/plain": [
       "  neighbourhood_group   mean_price  n_listings\n",
       "0               Bronx    92.751479      1183.0\n",
       "1            Brooklyn   120.225258     18632.0\n",
       "2           Manhattan   191.880466     20580.0\n",
       "3              Queens    99.754965         NaN\n",
       "4       Staten Island   110.947214         NaN"
      ]
     },
     "execution_count": 69,
     "metadata": {},
     "output_type": "execute_result"
    }
   ],
   "source": [
    "# 4. Load your newly saved file, see if it looks the same.  If not, try saving with argument `index=False`\n",
    "df_joined = pd.read_csv('joined.csv')\n",
    "df_joined.head()"
   ]
  },
  {
   "cell_type": "markdown",
   "metadata": {},
   "source": [
    "# Extra Credit\n",
    "Every question below this cell is extra credit and optional."
   ]
  },
  {
   "cell_type": "markdown",
   "metadata": {},
   "source": [
    "### 1. (Easy) Explore this new PandasAI Package and tell me what its all about because I've never used it. \n",
    "* https://www.youtube.com/watch?v=5w6eZaoDVVk&ab_channel=CodingIsFun  \n",
    "* See if you can use it on the listings.csv to find out some cool info. or answer some of the questions above. "
   ]
  },
  {
   "cell_type": "markdown",
   "metadata": {},
   "source": [
    "### 2. (Very Easy) Find other cool Panda packages / add ons and show us what they can do well. And how you installed them. "
   ]
  },
  {
   "cell_type": "markdown",
   "metadata": {},
   "source": [
    "### 3. (Medium) Use the grammys.csv data for the next section of questions.\n",
    "\n",
    "1. Who was won Album of the Year in 2016?\n",
    "\n",
    "\n",
    "2. Who won Best Rap Album in 2009?\n",
    "\n",
    "\n",
    "3. How many awards was Kendrick Lamar nomiated for, and how many did he win...?"
   ]
  },
  {
   "cell_type": "markdown",
   "metadata": {},
   "source": [
    "### (Hard) Load the Game Logs for 2022 and add the column names using a dictionary.  \n",
    "* [Link to the data page](https://www.retrosheet.org/gamelogs/)\n",
    "* [Link to the column names](https://procatinator.com/)\n",
    "* haha, gotta find them yourself!"
   ]
  },
  {
   "cell_type": "markdown",
   "metadata": {},
   "source": [
    "### (Extra Hard) Download the files for the past 5 years into a new folder and add them all into one data frame using pandas, then save that new file.\n",
    "* Try to not hard code in the file names. We want to do this programmatically because what if we want to add new/more file names in the future."
   ]
  },
  {
   "cell_type": "code",
   "execution_count": null,
   "metadata": {},
   "outputs": [],
   "source": []
  }
 ],
 "metadata": {
  "kernelspec": {
   "display_name": "Python 3",
   "language": "python",
   "name": "python3"
  },
  "language_info": {
   "codemirror_mode": {
    "name": "ipython",
    "version": 3
   },
   "file_extension": ".py",
   "mimetype": "text/x-python",
   "name": "python",
   "nbconvert_exporter": "python",
   "pygments_lexer": "ipython3",
   "version": "3.12.1"
  }
 },
 "nbformat": 4,
 "nbformat_minor": 4
}
