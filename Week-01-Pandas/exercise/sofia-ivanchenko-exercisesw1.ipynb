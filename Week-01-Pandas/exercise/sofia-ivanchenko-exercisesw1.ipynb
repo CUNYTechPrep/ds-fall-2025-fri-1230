{
 "cells": [
  {
   "cell_type": "markdown",
   "metadata": {},
   "source": [
    "# First print your name in the cell below then save this file. (or something nice about your instructor)"
   ]
  },
  {
   "cell_type": "code",
   "execution_count": 2,
   "metadata": {},
   "outputs": [
    {
     "name": "stdout",
     "output_type": "stream",
     "text": [
      "Sofia Ivanchenko\n",
      "Zach you're an awesome dude... rlly like ur motivational quotes & u make me have hope for my future in cs LOLLL\n"
     ]
    }
   ],
   "source": [
    "# In this cell print your name \n",
    "print(\"Sofia Ivanchenko\")\n",
    "print(\"Zach you're an awesome dude... rlly like ur motivational quotes & u make me have hope\" \\\n",
    "\" for my future in cs LOLLL\")"
   ]
  },
  {
   "cell_type": "markdown",
   "metadata": {},
   "source": [
    "# Data wrangling with Pandas exercise\n",
    "* For this exercise we will be using the `listings.csv` data file."
   ]
  },
  {
   "cell_type": "code",
   "execution_count": 6,
   "metadata": {},
   "outputs": [],
   "source": [
    "import pandas as pd\n",
    "import numpy as np"
   ]
  },
  {
   "cell_type": "markdown",
   "metadata": {},
   "source": [
    "# Load in the data file using `pd.read_csv()`"
   ]
  },
  {
   "cell_type": "code",
   "execution_count": 8,
   "metadata": {},
   "outputs": [
    {
     "name": "stdout",
     "output_type": "stream",
     "text": [
      "     id                                               name  host_id  \\\n",
      "0  2595                              Skylit Midtown Castle     2845   \n",
      "1  3831  Whole flr w/private bdrm, bath & kitchen(pls r...     4869   \n",
      "2  5121                                    BlissArtsSpace!     7356   \n",
      "3  5136           Spacious Brooklyn Duplex, Patio + Garden     7378   \n",
      "4  5178                   Large Furnished Room Near B'way　     8967   \n",
      "\n",
      "     host_name neighbourhood_group       neighbourhood  latitude  longitude  \\\n",
      "0     Jennifer           Manhattan             Midtown  40.75362  -73.98377   \n",
      "1  LisaRoxanne            Brooklyn        Clinton Hill  40.68514  -73.95976   \n",
      "2        Garon            Brooklyn  Bedford-Stuyvesant  40.68688  -73.95596   \n",
      "3      Rebecca            Brooklyn         Sunset Park  40.66120  -73.99423   \n",
      "4     Shunichi           Manhattan      Hell's Kitchen  40.76489  -73.98493   \n",
      "\n",
      "         room_type  price  minimum_nights  number_of_reviews last_review  \\\n",
      "0  Entire home/apt    175               3                 48  2019-11-04   \n",
      "1  Entire home/apt     75               1                340  2020-08-01   \n",
      "2     Private room     60              29                 50  2019-12-02   \n",
      "3  Entire home/apt    175              14                  1  2014-01-02   \n",
      "4     Private room     65               2                473  2020-03-15   \n",
      "\n",
      "   reviews_per_month  calculated_host_listings_count  availability_365  \n",
      "0               0.37                               2               365  \n",
      "1               4.75                               1               265  \n",
      "2               0.37                               1               365  \n",
      "3               0.01                               1               295  \n",
      "4               3.44                               1               340  \n"
     ]
    }
   ],
   "source": [
    "# Load data here\n",
    "df = pd.read_csv('/workspaces/ds-fall-2025-fri-1230/Week-01-Pandas/data/listings.csv')\n",
    "print(df.head())"
   ]
  },
  {
   "cell_type": "markdown",
   "metadata": {},
   "source": [
    "## Exercise 2 - Filtering\n",
    "\n",
    "Return the following subsets of the dataframe.\n",
    "\n",
    "1. How many listings are there with a price less than 100? \n",
    "\n",
    "\n",
    "2. Find how many listings there are in just Brooklyn.\n",
    "\n",
    "\n",
    "3. Find how many listings there are in Brooklyn with a price less than 100.\n",
    "\n",
    "\n",
    "4. Using `.isin()` select anyone that has the host name of Michael, David, John, and Daniel.\n",
    "\n",
    "\n",
    "5. Create a new column called `adjusted_price` that has $100 added to every listing in Williamsburg.  The prices for all other listings should be the same as the were before. \n",
    "\n",
    "\n",
    "6. What % of the rooms are private, and what % of the rooms are shared.  \n",
    "    * Hint, use `.value_counts()`\n"
   ]
  },
  {
   "cell_type": "code",
   "execution_count": 12,
   "metadata": {},
   "outputs": [
    {
     "name": "stdout",
     "output_type": "stream",
     "text": [
      "There are: 22778 cheap listings available!!!!\n"
     ]
    }
   ],
   "source": [
    "# 1. How many listings are there with a price less than 100? \n",
    "# use boolean filtering -- u basically create T/F series and use it to select rows:\n",
    "\n",
    "# find the cheap listings -- creates a series (temp object) that stores T values for this condition\n",
    "cheap_listings = df[df['price'] < 100]\n",
    " # print(cheap_listings)\n",
    "\n",
    "# count them\n",
    "num_cheap_listings = len(cheap_listings)\n",
    "\n",
    "print(f\"There are: {num_cheap_listings} cheap listings available!!!!\")"
   ]
  },
  {
   "cell_type": "code",
   "execution_count": 16,
   "metadata": {},
   "outputs": [
    {
     "name": "stdout",
     "output_type": "stream",
     "text": [
      "There are 18632 listings in bk :P\n"
     ]
    }
   ],
   "source": [
    "# 2. Make a new DataFrame of listings in Brooklyn named `df_bk` \n",
    "# and find how many listings in just Brooklyn.\n",
    "\n",
    "df_bk = df[df['neighbourhood_group'] == 'Brooklyn']\n",
    "# print(df_bk.head())\n",
    "\n",
    "print(f\"There are {len(df_bk)} listings in bk :P\")"
   ]
  },
  {
   "cell_type": "code",
   "execution_count": null,
   "metadata": {},
   "outputs": [
    {
     "name": "stdout",
     "output_type": "stream",
     "text": [
      "10473\n"
     ]
    }
   ],
   "source": [
    "# 3. Find how many listings there are in Brooklyn with a price less than 100.\n",
    "\n",
    "# how is this stored? ik its in a temp obj but\n",
    "# # i want to see the t/f values like we did in class but having trouble -- come back to this later \n",
    "\n",
    "bk_cheap = df_bk[df_bk['price'] < 100]\n",
    "num_bk_cheap = len(bk_cheap)\n",
    "\n",
    "print(num_bk_cheap)\n"
   ]
  },
  {
   "cell_type": "code",
   "execution_count": null,
   "metadata": {},
   "outputs": [
    {
     "name": "stdout",
     "output_type": "stream",
     "text": [
      "There are 1258 hosts with that name (wow)\n"
     ]
    }
   ],
   "source": [
    "# 4. Using `.isin()` select anyone that has the host name of Michael, David, John, and Daniel.\n",
    "# How many total are there that have those names\n",
    "\n",
    "hosts = ['Michael', 'David', 'John', 'Daniel']\n",
    "\n",
    "# how does isin work on the backend? what does it do exactly/process \n",
    "selected_hosts = df[df['host_name'].isin(hosts)]\n",
    "\n",
    "print(f\"There are {len(selected_hosts)} hosts with that name (wow).\")"
   ]
  },
  {
   "cell_type": "code",
   "execution_count": 20,
   "metadata": {},
   "outputs": [
    {
     "name": "stdout",
     "output_type": "stream",
     "text": [
      "    price  adjusted_price\n",
      "11    109             209\n",
      "15    299             399\n",
      "35    131             231\n",
      "38    175             275\n",
      "42     80             180\n"
     ]
    }
   ],
   "source": [
    "# 5. Create a new column called `adjusted_price` that has $100 added to every listing in Williamsburg.  \n",
    "# The prices for all other listings should be the same as the were before. \n",
    "\n",
    "# create adj_price and copy everything from price\n",
    "df['adjusted_price'] = df['price']\n",
    "\n",
    "df.loc[df['neighbourhood'] == 'Williamsburg', 'adjusted_price'] += 100\n",
    "\n",
    "# check\n",
    "williamsburg_listings = df[df['neighbourhood'] == 'Williamsburg']\n",
    "print(williamsburg_listings[['price', 'adjusted_price']].head())\n",
    "\n"
   ]
  },
  {
   "cell_type": "code",
   "execution_count": 23,
   "metadata": {},
   "outputs": [
    {
     "name": "stdout",
     "output_type": "stream",
     "text": [
      "Room type %:\n",
      "\n",
      "room_type\n",
      "Entire home/apt    0.515787\n",
      "Private room       0.454446\n",
      "Shared room        0.021213\n",
      "Hotel room         0.008554\n",
      "Name: proportion, dtype: float64\n"
     ]
    }
   ],
   "source": [
    "# 6. What % of the rooms are private, and what % of the rooms are shared.  \n",
    "\n",
    "room_type_counts = df['room_type'].value_counts(normalize=True)\n",
    "\n",
    "print(f\"Room type %:\\n\\n{room_type_counts}\")\n",
    "\n"
   ]
  },
  {
   "cell_type": "markdown",
   "metadata": {},
   "source": [
    "# Exercise 3 - Grouping\n",
    "\n",
    "1. Using `groupby`, count how many listings are in each neighbourhood_group.\n",
    "\n",
    "\n",
    "2. Using `groupby`, find the mean price for each of the neighbourhood_groups. \n",
    "\n",
    "\n",
    "3. Using `groupby` and `.agg()`, find the min and max price for each of the neighbourhood_groups. \n",
    "\n",
    "\n",
    "4. Using `groupby`, find the median price for each room type in each neighbourhood_group.\n",
    "\n",
    "\n",
    "5. Using `groupby` and `.agg()`, find the count, min, max, mean, median, and std of the prices for each room type in each neighbourhood_group."
   ]
  },
  {
   "cell_type": "code",
   "execution_count": 26,
   "metadata": {},
   "outputs": [
    {
     "name": "stdout",
     "output_type": "stream",
     "text": [
      "size of each neighborhood listing:\n",
      "\n",
      "\n",
      "neighbourhood_group\n",
      "Bronx             1183\n",
      "Brooklyn         18632\n",
      "Manhattan        20580\n",
      "Queens            5791\n",
      "Staten Island      341\n",
      "dtype: int64\n"
     ]
    }
   ],
   "source": [
    "# 1. Using `groupby`, count how many listings are in each neighbourhood_group.\n",
    "\n",
    "grouped_neighborhoods = df.groupby('neighbourhood_group').size()\n",
    "\n",
    "print(\"size of each neighborhood listing:\\n\\n\")\n",
    "print(grouped_neighborhoods)\n"
   ]
  },
  {
   "cell_type": "code",
   "execution_count": null,
   "metadata": {},
   "outputs": [],
   "source": [
    "# 2. Using `groupby`, find the mean price for each of the neighbourhood_groups. \n",
    "\n",
    "mean_price_by_group = df.groupby('neighbourhood_group')['price'].mean()\n"
   ]
  },
  {
   "cell_type": "code",
   "execution_count": null,
   "metadata": {},
   "outputs": [],
   "source": [
    "# 2.5. Using `groupby`, find the mean price for each room_type. \n",
    "\n",
    "mean_price_by_roomType = df.groupby('room_type')['price'].mean()\n"
   ]
  },
  {
   "cell_type": "code",
   "execution_count": null,
   "metadata": {},
   "outputs": [],
   "source": [
    "# 3. Using `groupby` and `.agg()`, find the min and max price for each of the neighbourhood_groups. \n",
    "\n",
    "\"\"\"The .agg() method is used when you want to apply \n",
    "multiple aggregation functions to your groups at the same time. \n",
    "You pass it a list of strings with the function names.\"\"\"\n",
    "\n",
    "min_max_price = df.groupby('neighbourhood_group')['price'].agg(['min', 'max'])\n",
    "\n",
    "print(\"\\nMin and max price per neighborhood group:\")\n",
    "print(min_max_price)\n"
   ]
  },
  {
   "cell_type": "code",
   "execution_count": 27,
   "metadata": {},
   "outputs": [
    {
     "name": "stdout",
     "output_type": "stream",
     "text": [
      "\n",
      "Median price for each room type per neighborhood group:\n",
      "neighbourhood_group  room_type      \n",
      "Bronx                Entire home/apt    103.0\n",
      "                     Private room        55.0\n",
      "                     Shared room         44.0\n",
      "Brooklyn             Entire home/apt    135.0\n",
      "                     Hotel room         129.0\n",
      "                     Private room        60.0\n",
      "                     Shared room         36.0\n",
      "Manhattan            Entire home/apt    165.0\n",
      "                     Hotel room         210.0\n",
      "                     Private room        80.0\n",
      "                     Shared room         60.0\n",
      "Queens               Entire home/apt    115.0\n",
      "                     Hotel room         149.0\n",
      "                     Private room        55.0\n",
      "                     Shared room         40.0\n",
      "Staten Island        Entire home/apt    111.0\n",
      "                     Private room        55.0\n",
      "                     Shared room         38.0\n",
      "Name: price, dtype: float64\n"
     ]
    }
   ],
   "source": [
    "# 4. Using `groupby`, find the MEDIAN price for each room_type in each neighbourhood_group.\n",
    "\n",
    "# Group by neighbourhood_group AND room_type to find the median price\n",
    "median_price_multi_group = df.groupby(['neighbourhood_group', 'room_type'])['price'].median()\n",
    "\n",
    "print(\"\\nMedian price for each room type per neighborhood group:\")\n",
    "print(median_price_multi_group)"
   ]
  },
  {
   "cell_type": "code",
   "execution_count": 28,
   "metadata": {},
   "outputs": [
    {
     "name": "stdout",
     "output_type": "stream",
     "text": [
      "\n",
      "Price statistics per room type per neighborhood group:\n",
      "                                     count  min    max        mean  median  \\\n",
      "neighbourhood_group room_type                                                \n",
      "Bronx               Entire home/apt    415   25   1404  138.004819   103.0   \n",
      "                    Private room       722   16    700   68.419668    55.0   \n",
      "                    Shared room         46   20    800   66.391304    44.0   \n",
      "Brooklyn            Entire home/apt   9112   20  10000  171.587687   135.0   \n",
      "                    Hotel room          30    0    399  147.300000   129.0   \n",
      "                    Private room      9159   10   2500   71.291189    60.0   \n",
      "                    Shared room        331   15   1500   57.870091    36.0   \n",
      "Manhattan           Entire home/apt  12209    0  10000  231.335572   165.0   \n",
      "                    Hotel room         351    0   2211  292.515670   210.0   \n",
      "                    Private room      7601   10  10000  128.277069    80.0   \n",
      "                    Shared room        419   10  10000  111.735084    60.0   \n",
      "Queens              Entire home/apt   2090   10  10000  150.168900   115.0   \n",
      "                    Hotel room          17    0    249  139.058824   149.0   \n",
      "                    Private room      3499   18   9000   69.972564    55.0   \n",
      "                    Shared room        185   14   3000   89.891892    40.0   \n",
      "Staten Island       Entire home/apt    172   39   1200  151.720930   111.0   \n",
      "                    Private room       163   20    800   70.312883    55.0   \n",
      "                    Shared room          6   19     82   46.000000    38.0   \n",
      "\n",
      "                                            std  \n",
      "neighbourhood_group room_type                    \n",
      "Bronx               Entire home/apt  126.032106  \n",
      "                    Private room      57.337866  \n",
      "                    Shared room      114.442703  \n",
      "Brooklyn            Entire home/apt  236.732843  \n",
      "                    Hotel room        91.153206  \n",
      "                    Private room      69.023165  \n",
      "                    Shared room       92.217618  \n",
      "Manhattan           Entire home/apt  410.306439  \n",
      "                    Hotel room       315.924085  \n",
      "                    Private room     448.677306  \n",
      "                    Shared room      502.728868  \n",
      "Queens              Entire home/apt  252.606739  \n",
      "                    Hotel room        50.743806  \n",
      "                    Private room     163.814468  \n",
      "                    Shared room      275.675158  \n",
      "Staten Island       Entire home/apt  147.518392  \n",
      "                    Private room      70.759593  \n",
      "                    Shared room       28.446441  \n"
     ]
    }
   ],
   "source": [
    "# 5. Using `groupby` and `.agg()`, find the count, min, max, mean, median, and std of the prices \n",
    "# for each room type in each neighbourhood_group.\n",
    "\n",
    "# Group by two columns and use .agg() to get multiple statistics\n",
    "price_stats = df.groupby(['neighbourhood_group', 'room_type'])['price'].agg(['count', 'min', 'max', 'mean', 'median', 'std'])\n",
    "\n",
    "print(\"\\nPrice statistics per room type per neighborhood group:\")\n",
    "print(price_stats)\n",
    "\n"
   ]
  },
  {
   "cell_type": "markdown",
   "metadata": {},
   "source": [
    "# Load, Merge, and Export files.\n",
    "1. Load the `prices.csv` and the `n_listings.csv`\n",
    "    * Having an error..? Inspect the actual csv file if you're having trouble\n",
    "\n",
    "2. Do join that keeps all the records for each table.\n",
    "    * Neighbourhood groups should include ['Bronx', 'Brooklyn', 'Manhattan', 'Queens', 'Staten Island',\n",
    "       'LongIsland']\n",
    "\n",
    "       \n",
    "3. Save your joined csv as `joined.csv` into the data folder. \n",
    "\n",
    "\n",
    "4. Load your saved table and see if it looks the same or different that the DataFrame you used to create it. "
   ]
  },
  {
   "cell_type": "code",
   "execution_count": 41,
   "metadata": {},
   "outputs": [
    {
     "name": "stdout",
     "output_type": "stream",
     "text": [
      "Columns in prices_df: Index(['neighbourhood_group', ' mean_price'], dtype='object')\n",
      "Columns in n_listings_df: Index(['neighbourhood_group;n_listings'], dtype='object')\n"
     ]
    }
   ],
   "source": [
    "# 1. Load the `prices.csv` and the `n_listings.csv`\n",
    "\n",
    "prices_df = pd.read_csv('/workspaces/ds-fall-2025-fri-1230/Week-01-Pandas/data/prices.csv')\n",
    "\n",
    "n_listing_df = pd.read_csv('/workspaces/ds-fall-2025-fri-1230/Week-01-Pandas/data/n_listings.csv')\n",
    "\n",
    "\n",
    "print(\"Columns in prices_df:\", prices_df.columns)\n",
    "print(\"Columns in n_listings_df:\", n_listing_df.columns)"
   ]
  },
  {
   "cell_type": "code",
   "execution_count": 42,
   "metadata": {},
   "outputs": [],
   "source": [
    "# Rename the column in n_listings_df to match prices_df\n",
    "n_listing_df.rename(columns={'neighbourhood_group;n_listings': 'neighbourhood_group'}, inplace=True)\n",
    "\n",
    "\n",
    "merged_df = pd.merge(prices_df, n_listing_df, on='neighbourhood_group', how='outer')"
   ]
  },
  {
   "cell_type": "code",
   "execution_count": 43,
   "metadata": {},
   "outputs": [
    {
     "name": "stdout",
     "output_type": "stream",
     "text": [
      "Merged DataFrame:\n",
      "  neighbourhood_group   mean_price\n",
      "0               Bronx    92.751479\n",
      "1          Bronx;1183          NaN\n",
      "2            Brooklyn   120.225258\n",
      "3      Brooklyn;18632          NaN\n",
      "4     LongIsland;4121          NaN\n",
      "5           Manhattan   191.880466\n",
      "6     Manhattan;20580          NaN\n",
      "7              Queens    99.754965\n",
      "8       Staten Island   110.947214\n"
     ]
    }
   ],
   "source": [
    "# 2. Do join that keeps all the records for each table.\n",
    "# go over this one again\n",
    "\n",
    "merged_df = pd.merge(prices_df, n_listing_df, on='neighbourhood_group', how='outer')\n",
    "\n",
    "print(\"Merged DataFrame:\")\n",
    "print(merged_df)\n"
   ]
  },
  {
   "cell_type": "code",
   "execution_count": 44,
   "metadata": {},
   "outputs": [],
   "source": [
    "# 3. Save your joined csv as `joined.csv` into the data folder. \n",
    "\n",
    "# index=False prevents writing the DataFrame's index to the file\n",
    "merged_df.to_csv('/workspaces/ds-fall-2025-fri-1230/Week-01-Pandas/data/joined.csv', index=False)\n"
   ]
  },
  {
   "cell_type": "code",
   "execution_count": 45,
   "metadata": {},
   "outputs": [
    {
     "name": "stdout",
     "output_type": "stream",
     "text": [
      "  neighbourhood_group   mean_price\n",
      "0               Bronx    92.751479\n",
      "1          Bronx;1183          NaN\n",
      "2            Brooklyn   120.225258\n",
      "3      Brooklyn;18632          NaN\n",
      "4     LongIsland;4121          NaN\n",
      "5           Manhattan   191.880466\n",
      "6     Manhattan;20580          NaN\n",
      "7              Queens    99.754965\n",
      "8       Staten Island   110.947214\n"
     ]
    }
   ],
   "source": [
    "# 4. Load your newly saved file, see if it looks the same.  If not, try saving with argument `index=False`\n",
    "\n",
    "loaded_df = pd.read_csv('/workspaces/ds-fall-2025-fri-1230/Week-01-Pandas/data/joined.csv')\n",
    "\n",
    "print(loaded_df)\n"
   ]
  },
  {
   "cell_type": "code",
   "execution_count": null,
   "metadata": {},
   "outputs": [
    {
     "name": "stdout",
     "output_type": "stream",
     "text": [
      "Corrected and Final Merged DataFrame:\n",
      "  neighbourhood_group   mean_price  n_listings\n",
      "0               Bronx    92.751479      1183.0\n",
      "1            Brooklyn   120.225258     18632.0\n",
      "2          LongIsland          NaN      4121.0\n",
      "3           Manhattan   191.880466     20580.0\n",
      "4              Queens    99.754965         NaN\n",
      "5       Staten Island   110.947214         NaN\n"
     ]
    }
   ],
   "source": [
    "# im not going to lie, i messed up on this last part. im debugging and trying to get it to work again -- very confused (LOLLLLLL - i am crying internally) so i had gemini break this down\n",
    "\n",
    "import pandas as pd\n",
    "\n",
    "# 1. Load the files, specifying the separator for n_listings.csv\n",
    "prices_df = pd.read_csv('/workspaces/ds-fall-2025-fri-1230/Week-01-Pandas/data/prices.csv')\n",
    "n_listings_df = pd.read_csv('/workspaces/ds-fall-2025-fri-1230/Week-01-Pandas/data/n_listings.csv', sep=';')\n",
    "\n",
    "# 2. Rename the column in n_listings_df to match prices_df\n",
    "n_listings_df.rename(columns={'neighbourhood_group;n_listings': 'neighbourhood_group'}, inplace=True)\n",
    "\n",
    "# 3. Perform an outer merge to join the two DataFrames\n",
    "merged_df = pd.merge(prices_df, n_listings_df, on='neighbourhood_group', how='outer')\n",
    "\n",
    "# 4. Save your joined csv as joined.csv into the data folder.\n",
    "merged_df.to_csv('/workspaces/ds-fall-2025-fri-1230/Week-01-Pandas/data/joined.csv', index=False)\n",
    "\n",
    "# 5. Load your saved table to verify it looks correct\n",
    "loaded_df = pd.read_csv('/workspaces/ds-fall-2025-fri-1230/Week-01-Pandas/data/joined.csv')\n",
    "\n",
    "print(\"Corrected and Final Merged DataFrame:\")\n",
    "print(loaded_df)\n",
    "\n",
    "# outputs look clean. i will be coming back to review this portion again in a bit"
   ]
  },
  {
   "cell_type": "markdown",
   "metadata": {},
   "source": [
    "# Extra Credit\n",
    "Every question below this cell is extra credit and optional."
   ]
  },
  {
   "cell_type": "markdown",
   "metadata": {},
   "source": [
    "### 1. (Easy) Explore this new PandasAI Package and tell me what its all about because I've never used it. \n",
    "* https://www.youtube.com/watch?v=5w6eZaoDVVk&ab_channel=CodingIsFun  \n",
    "* See if you can use it on the listings.csv to find out some cool info. or answer some of the questions above. "
   ]
  },
  {
   "cell_type": "markdown",
   "metadata": {},
   "source": [
    "### 2. (Very Easy) Find other cool Panda packages / add ons and show us what they can do well. And how you installed them. "
   ]
  },
  {
   "cell_type": "markdown",
   "metadata": {},
   "source": [
    "### 3. (Medium) Use the grammys.csv data for the next section of questions.\n",
    "\n",
    "1. Who was won Album of the Year in 2016?\n",
    "\n",
    "\n",
    "2. Who won Best Rap Album in 2009?\n",
    "\n",
    "\n",
    "3. How many awards was Kendrick Lamar nomiated for, and how many did he win...?"
   ]
  },
  {
   "cell_type": "markdown",
   "metadata": {},
   "source": [
    "### (Hard) Load the Game Logs for 2022 and add the column names using a dictionary.  \n",
    "* [Link to the data page](https://www.retrosheet.org/gamelogs/)\n",
    "* [Link to the column names](https://procatinator.com/)\n",
    "* haha, gotta find them yourself!"
   ]
  },
  {
   "cell_type": "markdown",
   "metadata": {},
   "source": [
    "### (Extra Hard) Download the files for the past 5 years into a new folder and add them all into one data frame using pandas, then save that new file.\n",
    "* Try to not hard code in the file names. We want to do this programmatically because what if we want to add new/more file names in the future."
   ]
  },
  {
   "cell_type": "code",
   "execution_count": null,
   "metadata": {},
   "outputs": [],
   "source": []
  }
 ],
 "metadata": {
  "kernelspec": {
   "display_name": "Python 3",
   "language": "python",
   "name": "python3"
  },
  "language_info": {
   "codemirror_mode": {
    "name": "ipython",
    "version": 3
   },
   "file_extension": ".py",
   "mimetype": "text/x-python",
   "name": "python",
   "nbconvert_exporter": "python",
   "pygments_lexer": "ipython3",
   "version": "3.12.1"
  }
 },
 "nbformat": 4,
 "nbformat_minor": 4
}
